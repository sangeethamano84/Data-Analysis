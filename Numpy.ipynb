{
 "cells": [
  {
   "cell_type": "code",
   "execution_count": 35,
   "metadata": {},
   "outputs": [],
   "source": [
    "import numpy as np"
   ]
  },
  {
   "cell_type": "code",
   "execution_count": 36,
   "metadata": {},
   "outputs": [
    {
     "name": "stdout",
     "output_type": "stream",
     "text": [
      "[1 2 3]\n"
     ]
    }
   ],
   "source": [
    "a=np.array([1,2,3], dtype='int8')\n",
    "print(a)"
   ]
  },
  {
   "cell_type": "code",
   "execution_count": 37,
   "metadata": {},
   "outputs": [
    {
     "name": "stdout",
     "output_type": "stream",
     "text": [
      "[[9. 6. 3.]\n",
      " [5. 7. 4.]]\n"
     ]
    }
   ],
   "source": [
    "b=np.array([[9.0,6.0,3.0],[5.0,7.0,4.0]])\n",
    "print(b)"
   ]
  },
  {
   "cell_type": "code",
   "execution_count": 38,
   "metadata": {},
   "outputs": [
    {
     "data": {
      "text/plain": [
       "1"
      ]
     },
     "execution_count": 38,
     "metadata": {},
     "output_type": "execute_result"
    }
   ],
   "source": [
    "# get dimensions\n",
    "a.ndim"
   ]
  },
  {
   "cell_type": "code",
   "execution_count": 39,
   "metadata": {},
   "outputs": [
    {
     "data": {
      "text/plain": [
       "2"
      ]
     },
     "execution_count": 39,
     "metadata": {},
     "output_type": "execute_result"
    }
   ],
   "source": [
    "b.ndim"
   ]
  },
  {
   "cell_type": "code",
   "execution_count": 40,
   "metadata": {},
   "outputs": [
    {
     "data": {
      "text/plain": [
       "(3,)"
      ]
     },
     "execution_count": 40,
     "metadata": {},
     "output_type": "execute_result"
    }
   ],
   "source": [
    "a.shape"
   ]
  },
  {
   "cell_type": "code",
   "execution_count": 41,
   "metadata": {},
   "outputs": [
    {
     "data": {
      "text/plain": [
       "(2, 3)"
      ]
     },
     "execution_count": 41,
     "metadata": {},
     "output_type": "execute_result"
    }
   ],
   "source": [
    "b.shape"
   ]
  },
  {
   "cell_type": "code",
   "execution_count": 42,
   "metadata": {},
   "outputs": [
    {
     "data": {
      "text/plain": [
       "dtype('int8')"
      ]
     },
     "execution_count": 42,
     "metadata": {},
     "output_type": "execute_result"
    }
   ],
   "source": [
    "a.dtype"
   ]
  },
  {
   "cell_type": "code",
   "execution_count": 43,
   "metadata": {},
   "outputs": [
    {
     "data": {
      "text/plain": [
       "1"
      ]
     },
     "execution_count": 43,
     "metadata": {},
     "output_type": "execute_result"
    }
   ],
   "source": [
    "a.itemsize"
   ]
  },
  {
   "cell_type": "code",
   "execution_count": 44,
   "metadata": {},
   "outputs": [
    {
     "data": {
      "text/plain": [
       "3"
      ]
     },
     "execution_count": 44,
     "metadata": {},
     "output_type": "execute_result"
    }
   ],
   "source": [
    "a.nbytes"
   ]
  },
  {
   "cell_type": "markdown",
   "metadata": {},
   "source": [
    "# accessing/changing specific elements,row,columns"
   ]
  },
  {
   "cell_type": "code",
   "execution_count": 45,
   "metadata": {},
   "outputs": [
    {
     "name": "stdout",
     "output_type": "stream",
     "text": [
      "[[ 1  2  3  4  5  6  7]\n",
      " [ 8  9 10 11 12 13 14]]\n"
     ]
    }
   ],
   "source": [
    "a=np.array([[1,2,3,4,5,6,7],[8,9,10,11,12,13,14]])\n",
    "print(a)"
   ]
  },
  {
   "cell_type": "code",
   "execution_count": 46,
   "metadata": {},
   "outputs": [
    {
     "data": {
      "text/plain": [
       "6"
      ]
     },
     "execution_count": 46,
     "metadata": {},
     "output_type": "execute_result"
    }
   ],
   "source": [
    "#get a specific element\n",
    "a[0,5]"
   ]
  },
  {
   "cell_type": "code",
   "execution_count": 47,
   "metadata": {},
   "outputs": [
    {
     "data": {
      "text/plain": [
       "5"
      ]
     },
     "execution_count": 47,
     "metadata": {},
     "output_type": "execute_result"
    }
   ],
   "source": [
    "a[0,-3]"
   ]
  },
  {
   "cell_type": "code",
   "execution_count": 48,
   "metadata": {},
   "outputs": [
    {
     "data": {
      "text/plain": [
       "array([1, 2, 3, 4, 5, 6, 7])"
      ]
     },
     "execution_count": 48,
     "metadata": {},
     "output_type": "execute_result"
    }
   ],
   "source": [
    "#get row only\n",
    "a[0,:]"
   ]
  },
  {
   "cell_type": "code",
   "execution_count": 49,
   "metadata": {},
   "outputs": [
    {
     "data": {
      "text/plain": [
       "array([ 4, 11])"
      ]
     },
     "execution_count": 49,
     "metadata": {},
     "output_type": "execute_result"
    }
   ],
   "source": [
    "#get column only\n",
    "a[:,3]"
   ]
  },
  {
   "cell_type": "code",
   "execution_count": 50,
   "metadata": {},
   "outputs": [
    {
     "data": {
      "text/plain": [
       "array([3, 4, 5, 6])"
      ]
     },
     "execution_count": 50,
     "metadata": {},
     "output_type": "execute_result"
    }
   ],
   "source": [
    "#[startindex:endindex:stepsize]\n",
    "a[0,2:-1:1]"
   ]
  },
  {
   "cell_type": "code",
   "execution_count": 51,
   "metadata": {},
   "outputs": [
    {
     "name": "stdout",
     "output_type": "stream",
     "text": [
      "[[[1 2]\n",
      "  [3 4]]\n",
      "\n",
      " [[5 6]\n",
      "  [7 8]]]\n"
     ]
    }
   ],
   "source": [
    "#3d array\n",
    "a=np.array([[[1,2],[3,4]],[[5,6],[7,8]]])\n",
    "print(a)"
   ]
  },
  {
   "cell_type": "code",
   "execution_count": 52,
   "metadata": {},
   "outputs": [
    {
     "data": {
      "text/plain": [
       "6"
      ]
     },
     "execution_count": 52,
     "metadata": {},
     "output_type": "execute_result"
    }
   ],
   "source": [
    "a[1,0,1]"
   ]
  },
  {
   "cell_type": "code",
   "execution_count": 53,
   "metadata": {},
   "outputs": [
    {
     "data": {
      "text/plain": [
       "array([[3, 4],\n",
       "       [7, 8]])"
      ]
     },
     "execution_count": 53,
     "metadata": {},
     "output_type": "execute_result"
    }
   ],
   "source": [
    "a[:,1,:]"
   ]
  },
  {
   "cell_type": "markdown",
   "metadata": {},
   "source": [
    "# initilizing different types of arrays"
   ]
  },
  {
   "cell_type": "markdown",
   "metadata": {},
   "source": [
    "## all zeros\n",
    "np.zeros(2,2)"
   ]
  },
  {
   "cell_type": "code",
   "execution_count": 56,
   "metadata": {},
   "outputs": [
    {
     "data": {
      "text/plain": [
       "array([[0., 0.],\n",
       "       [0., 0.]])"
      ]
     },
     "execution_count": 56,
     "metadata": {},
     "output_type": "execute_result"
    }
   ],
   "source": [
    "np.zeros((2,2))"
   ]
  },
  {
   "cell_type": "code",
   "execution_count": 57,
   "metadata": {},
   "outputs": [
    {
     "data": {
      "text/plain": [
       "array([[[1, 1],\n",
       "        [1, 1]],\n",
       "\n",
       "       [[1, 1],\n",
       "        [1, 1]],\n",
       "\n",
       "       [[1, 1],\n",
       "        [1, 1]],\n",
       "\n",
       "       [[1, 1],\n",
       "        [1, 1]]], dtype=int32)"
      ]
     },
     "execution_count": 57,
     "metadata": {},
     "output_type": "execute_result"
    }
   ],
   "source": [
    "np.ones((4,2,2),dtype='int32')"
   ]
  },
  {
   "cell_type": "code",
   "execution_count": 60,
   "metadata": {},
   "outputs": [
    {
     "data": {
      "text/plain": [
       "array([[99., 99.],\n",
       "       [99., 99.]])"
      ]
     },
     "execution_count": 60,
     "metadata": {},
     "output_type": "execute_result"
    }
   ],
   "source": [
    "np.full((2,2),99, dtype=float)"
   ]
  },
  {
   "cell_type": "code",
   "execution_count": 65,
   "metadata": {},
   "outputs": [
    {
     "data": {
      "text/plain": [
       "array([[[4, 4],\n",
       "        [4, 4]],\n",
       "\n",
       "       [[4, 4],\n",
       "        [4, 4]]])"
      ]
     },
     "execution_count": 65,
     "metadata": {},
     "output_type": "execute_result"
    }
   ],
   "source": [
    "np.full_like(a,4)"
   ]
  },
  {
   "cell_type": "code",
   "execution_count": 66,
   "metadata": {},
   "outputs": [
    {
     "data": {
      "text/plain": [
       "array([[0.31229693, 0.06882753],\n",
       "       [0.11038974, 0.16200064],\n",
       "       [0.75577967, 0.89831417],\n",
       "       [0.78350509, 0.71525743]])"
      ]
     },
     "execution_count": 66,
     "metadata": {},
     "output_type": "execute_result"
    }
   ],
   "source": [
    "np.random.rand(4,2)"
   ]
  },
  {
   "cell_type": "code",
   "execution_count": 68,
   "metadata": {},
   "outputs": [
    {
     "data": {
      "text/plain": [
       "array([[[0.47009442, 0.18087331],\n",
       "        [0.00967316, 0.82803441]],\n",
       "\n",
       "       [[0.36875894, 0.5677564 ],\n",
       "        [0.13064586, 0.86050571]]])"
      ]
     },
     "execution_count": 68,
     "metadata": {},
     "output_type": "execute_result"
    }
   ],
   "source": [
    "np.random.random_sample(a.shape)"
   ]
  },
  {
   "cell_type": "code",
   "execution_count": 71,
   "metadata": {},
   "outputs": [
    {
     "data": {
      "text/plain": [
       "array([[16, 10, 30],\n",
       "       [40, 12, 16],\n",
       "       [44, 14, 46]])"
      ]
     },
     "execution_count": 71,
     "metadata": {},
     "output_type": "execute_result"
    }
   ],
   "source": [
    "np.random.randint(10,50, size=(3,3))"
   ]
  },
  {
   "cell_type": "code",
   "execution_count": 72,
   "metadata": {},
   "outputs": [
    {
     "data": {
      "text/plain": [
       "array([[1., 0., 0., 0., 0.],\n",
       "       [0., 1., 0., 0., 0.],\n",
       "       [0., 0., 1., 0., 0.],\n",
       "       [0., 0., 0., 1., 0.],\n",
       "       [0., 0., 0., 0., 1.]])"
      ]
     },
     "execution_count": 72,
     "metadata": {},
     "output_type": "execute_result"
    }
   ],
   "source": [
    "np.identity(5)"
   ]
  },
  {
   "cell_type": "code",
   "execution_count": 76,
   "metadata": {},
   "outputs": [
    {
     "name": "stdout",
     "output_type": "stream",
     "text": [
      "[[1 2 3]\n",
      " [1 2 3]\n",
      " [1 2 3]]\n"
     ]
    }
   ],
   "source": [
    "arr=np.array([[1,2,3]])\n",
    "r1=np.repeat(arr,3,axis=0)\n",
    "print(r1)"
   ]
  },
  {
   "cell_type": "code",
   "execution_count": 80,
   "metadata": {},
   "outputs": [
    {
     "name": "stdout",
     "output_type": "stream",
     "text": [
      "[[1. 1. 1. 1. 1.]\n",
      " [1. 1. 1. 1. 1.]\n",
      " [1. 1. 1. 1. 1.]\n",
      " [1. 1. 1. 1. 1.]\n",
      " [1. 1. 1. 1. 1.]]\n",
      "[[0. 0. 0.]\n",
      " [0. 9. 0.]\n",
      " [0. 0. 0.]]\n",
      "[[1. 1. 1. 1. 1.]\n",
      " [1. 0. 0. 0. 1.]\n",
      " [1. 0. 9. 0. 1.]\n",
      " [1. 0. 0. 0. 1.]\n",
      " [1. 1. 1. 1. 1.]]\n"
     ]
    }
   ],
   "source": [
    "output =np.ones((5,5))\n",
    "print(output)\n",
    "z= np.zeros((3,3))\n",
    "z[1,1]=9\n",
    "print(z)\n",
    "output[1:4,1:4]=z\n",
    "print(output)"
   ]
  },
  {
   "cell_type": "code",
   "execution_count": 89,
   "metadata": {},
   "outputs": [
    {
     "name": "stdout",
     "output_type": "stream",
     "text": [
      "[100   2   3]\n",
      "[200   2   3]\n"
     ]
    }
   ],
   "source": [
    "a=np.array([1,2,3])\n",
    "b=a.copy()\n",
    "a[0]=100\n",
    "b[0]=200\n",
    "print(a)\n",
    "print(b)"
   ]
  },
  {
   "cell_type": "markdown",
   "metadata": {},
   "source": [
    "# mathematics with numpy"
   ]
  },
  {
   "cell_type": "code",
   "execution_count": 91,
   "metadata": {},
   "outputs": [],
   "source": [
    "a=np.array([1,2,3])\n"
   ]
  },
  {
   "cell_type": "code",
   "execution_count": 92,
   "metadata": {},
   "outputs": [
    {
     "data": {
      "text/plain": [
       "array([3, 4, 5])"
      ]
     },
     "execution_count": 92,
     "metadata": {},
     "output_type": "execute_result"
    }
   ],
   "source": [
    "a+2"
   ]
  },
  {
   "cell_type": "code",
   "execution_count": 93,
   "metadata": {},
   "outputs": [
    {
     "data": {
      "text/plain": [
       "array([-1,  0,  1])"
      ]
     },
     "execution_count": 93,
     "metadata": {},
     "output_type": "execute_result"
    }
   ],
   "source": [
    "a-2"
   ]
  },
  {
   "cell_type": "code",
   "execution_count": 94,
   "metadata": {},
   "outputs": [
    {
     "data": {
      "text/plain": [
       "array([2, 4, 6])"
      ]
     },
     "execution_count": 94,
     "metadata": {},
     "output_type": "execute_result"
    }
   ],
   "source": [
    "a*2"
   ]
  },
  {
   "cell_type": "code",
   "execution_count": 95,
   "metadata": {},
   "outputs": [
    {
     "data": {
      "text/plain": [
       "array([0, 1, 1])"
      ]
     },
     "execution_count": 95,
     "metadata": {},
     "output_type": "execute_result"
    }
   ],
   "source": [
    "a/2"
   ]
  },
  {
   "cell_type": "code",
   "execution_count": 96,
   "metadata": {},
   "outputs": [
    {
     "data": {
      "text/plain": [
       "array([1, 4, 9])"
      ]
     },
     "execution_count": 96,
     "metadata": {},
     "output_type": "execute_result"
    }
   ],
   "source": [
    "a**2"
   ]
  },
  {
   "cell_type": "code",
   "execution_count": 97,
   "metadata": {
    "scrolled": false
   },
   "outputs": [
    {
     "data": {
      "text/plain": [
       "array([0.84147098, 0.90929743, 0.14112001])"
      ]
     },
     "execution_count": 97,
     "metadata": {},
     "output_type": "execute_result"
    }
   ],
   "source": [
    "np.sin(a)"
   ]
  },
  {
   "cell_type": "markdown",
   "metadata": {},
   "source": [
    "# statistics"
   ]
  },
  {
   "cell_type": "code",
   "execution_count": 100,
   "metadata": {},
   "outputs": [],
   "source": [
    "a=np.array([[4,3,5],[7,6,4]])"
   ]
  },
  {
   "cell_type": "code",
   "execution_count": 103,
   "metadata": {},
   "outputs": [
    {
     "data": {
      "text/plain": [
       "array([4, 3, 4])"
      ]
     },
     "execution_count": 103,
     "metadata": {},
     "output_type": "execute_result"
    }
   ],
   "source": [
    "np.min(a,axis=0)"
   ]
  },
  {
   "cell_type": "code",
   "execution_count": 105,
   "metadata": {},
   "outputs": [
    {
     "data": {
      "text/plain": [
       "array([7, 6, 5])"
      ]
     },
     "execution_count": 105,
     "metadata": {},
     "output_type": "execute_result"
    }
   ],
   "source": [
    "np.max(a,axis=0)"
   ]
  },
  {
   "cell_type": "code",
   "execution_count": 106,
   "metadata": {},
   "outputs": [
    {
     "data": {
      "text/plain": [
       "29"
      ]
     },
     "execution_count": 106,
     "metadata": {},
     "output_type": "execute_result"
    }
   ],
   "source": [
    "np.sum(a)"
   ]
  },
  {
   "cell_type": "code",
   "execution_count": 107,
   "metadata": {},
   "outputs": [
    {
     "data": {
      "text/plain": [
       "array([11,  9,  9])"
      ]
     },
     "execution_count": 107,
     "metadata": {},
     "output_type": "execute_result"
    }
   ],
   "source": [
    "np.sum(a,axis=0)"
   ]
  },
  {
   "cell_type": "code",
   "execution_count": 108,
   "metadata": {},
   "outputs": [
    {
     "data": {
      "text/plain": [
       "array([12, 17])"
      ]
     },
     "execution_count": 108,
     "metadata": {},
     "output_type": "execute_result"
    }
   ],
   "source": [
    "np.sum(a,axis=1)"
   ]
  },
  {
   "cell_type": "markdown",
   "metadata": {},
   "source": [
    "# Reorganizing Arrays"
   ]
  },
  {
   "cell_type": "code",
   "execution_count": 110,
   "metadata": {},
   "outputs": [
    {
     "data": {
      "text/plain": [
       "array([[4, 3, 5, 9],\n",
       "       [7, 6, 4, 8]])"
      ]
     },
     "execution_count": 110,
     "metadata": {},
     "output_type": "execute_result"
    }
   ],
   "source": [
    "before=np.array([[4,3,5,9],[7,6,4,8]])\n",
    "before"
   ]
  },
  {
   "cell_type": "code",
   "execution_count": 113,
   "metadata": {},
   "outputs": [
    {
     "data": {
      "text/plain": [
       "array([[4, 3],\n",
       "       [5, 9],\n",
       "       [7, 6],\n",
       "       [4, 8]])"
      ]
     },
     "execution_count": 113,
     "metadata": {},
     "output_type": "execute_result"
    }
   ],
   "source": [
    "after=before.reshape((4,2))\n",
    "after"
   ]
  },
  {
   "cell_type": "code",
   "execution_count": 114,
   "metadata": {},
   "outputs": [
    {
     "data": {
      "text/plain": [
       "array([[4, 3, 5, 9],\n",
       "       [7, 6, 4, 8]])"
      ]
     },
     "execution_count": 114,
     "metadata": {},
     "output_type": "execute_result"
    }
   ],
   "source": [
    "# vertically stacking vectors\n",
    "v1=np.array([4,3,5,9])\n",
    "v2=np.array([7,6,4,8])\n",
    "np.vstack([v1,v2])\n"
   ]
  },
  {
   "cell_type": "code",
   "execution_count": 115,
   "metadata": {},
   "outputs": [
    {
     "data": {
      "text/plain": [
       "array([4, 3, 5, 9, 7, 6, 4, 8])"
      ]
     },
     "execution_count": 115,
     "metadata": {},
     "output_type": "execute_result"
    }
   ],
   "source": [
    "np.hstack([v1,v2])"
   ]
  },
  {
   "cell_type": "markdown",
   "metadata": {},
   "source": [
    "# miscellaneous"
   ]
  },
  {
   "cell_type": "code",
   "execution_count": 119,
   "metadata": {},
   "outputs": [
    {
     "ename": "ValueError",
     "evalue": "Some errors were detected !\n    Line #2 (got 12 columns instead of 16)\n    Line #3 (got 12 columns instead of 16)\n    Line #4 (got 12 columns instead of 16)\n    Line #5 (got 13 columns instead of 16)\n    Line #6 (got 11 columns instead of 16)\n    Line #7 (got 11 columns instead of 16)\n    Line #8 (got 12 columns instead of 16)\n    Line #9 (got 14 columns instead of 16)\n    Line #10 (got 14 columns instead of 16)\n    Line #11 (got 11 columns instead of 16)\n    Line #12 (got 11 columns instead of 16)\n    Line #13 (got 11 columns instead of 16)\n    Line #14 (got 12 columns instead of 16)\n    Line #15 (got 11 columns instead of 16)\n    Line #16 (got 11 columns instead of 16)\n    Line #17 (got 12 columns instead of 16)\n    Line #18 (got 12 columns instead of 16)\n    Line #19 (got 12 columns instead of 16)\n    Line #20 (got 12 columns instead of 16)\n    Line #21 (got 13 columns instead of 16)\n    Line #22 (got 12 columns instead of 16)\n    Line #23 (got 12 columns instead of 16)\n    Line #24 (got 12 columns instead of 16)\n    Line #25 (got 13 columns instead of 16)\n    Line #26 (got 11 columns instead of 16)\n    Line #27 (got 11 columns instead of 16)\n    Line #28 (got 12 columns instead of 16)\n    Line #29 (got 12 columns instead of 16)\n    Line #30 (got 11 columns instead of 16)\n    Line #31 (got 11 columns instead of 16)\n    Line #32 (got 11 columns instead of 16)\n    Line #33 (got 11 columns instead of 16)\n    Line #34 (got 11 columns instead of 16)\n    Line #35 (got 11 columns instead of 16)\n    Line #36 (got 12 columns instead of 16)\n    Line #37 (got 11 columns instead of 16)\n    Line #38 (got 12 columns instead of 16)\n    Line #39 (got 12 columns instead of 16)\n    Line #40 (got 11 columns instead of 16)\n    Line #41 (got 12 columns instead of 16)\n    Line #42 (got 11 columns instead of 16)\n    Line #43 (got 11 columns instead of 16)\n    Line #44 (got 11 columns instead of 16)\n    Line #45 (got 11 columns instead of 16)\n    Line #46 (got 12 columns instead of 16)\n    Line #47 (got 12 columns instead of 16)\n    Line #48 (got 12 columns instead of 16)\n    Line #49 (got 12 columns instead of 16)\n    Line #50 (got 12 columns instead of 16)\n    Line #51 (got 12 columns instead of 16)\n    Line #52 (got 12 columns instead of 16)\n    Line #53 (got 12 columns instead of 16)\n    Line #54 (got 12 columns instead of 16)\n    Line #55 (got 12 columns instead of 16)\n    Line #56 (got 12 columns instead of 16)\n    Line #57 (got 11 columns instead of 16)\n    Line #58 (got 11 columns instead of 16)\n    Line #59 (got 11 columns instead of 16)\n    Line #60 (got 11 columns instead of 16)\n    Line #61 (got 11 columns instead of 16)\n    Line #62 (got 11 columns instead of 16)\n    Line #63 (got 11 columns instead of 16)\n    Line #64 (got 11 columns instead of 16)\n    Line #65 (got 11 columns instead of 16)\n    Line #66 (got 11 columns instead of 16)\n    Line #67 (got 11 columns instead of 16)\n    Line #68 (got 11 columns instead of 16)\n    Line #69 (got 12 columns instead of 16)\n    Line #70 (got 11 columns instead of 16)\n    Line #71 (got 11 columns instead of 16)\n    Line #72 (got 11 columns instead of 16)\n    Line #73 (got 12 columns instead of 16)\n    Line #74 (got 11 columns instead of 16)\n    Line #75 (got 11 columns instead of 16)\n    Line #76 (got 11 columns instead of 16)\n    Line #77 (got 12 columns instead of 16)\n    Line #78 (got 12 columns instead of 16)\n    Line #79 (got 12 columns instead of 16)\n    Line #80 (got 12 columns instead of 16)\n    Line #81 (got 12 columns instead of 16)\n    Line #82 (got 12 columns instead of 16)\n    Line #83 (got 12 columns instead of 16)\n    Line #84 (got 12 columns instead of 16)\n    Line #85 (got 11 columns instead of 16)\n    Line #86 (got 11 columns instead of 16)\n    Line #87 (got 12 columns instead of 16)\n    Line #88 (got 12 columns instead of 16)\n    Line #89 (got 13 columns instead of 16)\n    Line #90 (got 12 columns instead of 16)\n    Line #91 (got 12 columns instead of 16)\n    Line #92 (got 12 columns instead of 16)\n    Line #93 (got 12 columns instead of 16)\n    Line #94 (got 12 columns instead of 16)\n    Line #95 (got 11 columns instead of 16)\n    Line #96 (got 12 columns instead of 16)\n    Line #97 (got 11 columns instead of 16)\n    Line #98 (got 11 columns instead of 16)\n    Line #99 (got 11 columns instead of 16)\n    Line #100 (got 12 columns instead of 16)\n    Line #101 (got 12 columns instead of 16)\n    Line #102 (got 12 columns instead of 16)\n    Line #103 (got 12 columns instead of 16)\n    Line #104 (got 13 columns instead of 16)\n    Line #105 (got 12 columns instead of 16)\n    Line #106 (got 11 columns instead of 16)\n    Line #107 (got 11 columns instead of 16)\n    Line #108 (got 11 columns instead of 16)\n    Line #109 (got 11 columns instead of 16)\n    Line #110 (got 11 columns instead of 16)\n    Line #111 (got 11 columns instead of 16)\n    Line #112 (got 12 columns instead of 16)\n    Line #113 (got 12 columns instead of 16)\n    Line #114 (got 11 columns instead of 16)\n    Line #115 (got 11 columns instead of 16)\n    Line #116 (got 11 columns instead of 16)\n    Line #117 (got 11 columns instead of 16)\n    Line #118 (got 11 columns instead of 16)\n    Line #119 (got 11 columns instead of 16)\n    Line #120 (got 11 columns instead of 16)\n    Line #121 (got 12 columns instead of 16)\n    Line #122 (got 12 columns instead of 16)\n    Line #123 (got 11 columns instead of 16)\n    Line #124 (got 11 columns instead of 16)\n    Line #125 (got 11 columns instead of 16)\n    Line #126 (got 12 columns instead of 16)\n    Line #127 (got 11 columns instead of 16)\n    Line #128 (got 11 columns instead of 16)\n    Line #129 (got 11 columns instead of 16)\n    Line #130 (got 11 columns instead of 16)\n    Line #131 (got 11 columns instead of 16)\n    Line #132 (got 12 columns instead of 16)\n    Line #133 (got 13 columns instead of 16)\n    Line #134 (got 12 columns instead of 16)\n    Line #135 (got 12 columns instead of 16)\n    Line #136 (got 11 columns instead of 16)\n    Line #137 (got 11 columns instead of 16)\n    Line #138 (got 11 columns instead of 16)\n    Line #139 (got 13 columns instead of 16)\n    Line #140 (got 11 columns instead of 16)\n    Line #141 (got 11 columns instead of 16)\n    Line #142 (got 12 columns instead of 16)\n    Line #143 (got 13 columns instead of 16)\n    Line #144 (got 12 columns instead of 16)\n    Line #145 (got 11 columns instead of 16)\n    Line #146 (got 11 columns instead of 16)\n    Line #147 (got 11 columns instead of 16)\n    Line #148 (got 11 columns instead of 16)\n    Line #149 (got 11 columns instead of 16)\n    Line #150 (got 11 columns instead of 16)\n    Line #151 (got 12 columns instead of 16)\n    Line #152 (got 12 columns instead of 16)\n    Line #153 (got 12 columns instead of 16)\n    Line #154 (got 12 columns instead of 16)\n    Line #155 (got 12 columns instead of 16)\n    Line #156 (got 13 columns instead of 16)\n    Line #157 (got 11 columns instead of 16)\n    Line #158 (got 12 columns instead of 16)\n    Line #159 (got 12 columns instead of 16)\n    Line #160 (got 12 columns instead of 16)\n    Line #161 (got 11 columns instead of 16)\n    Line #162 (got 11 columns instead of 16)\n    Line #163 (got 12 columns instead of 16)\n    Line #164 (got 11 columns instead of 16)\n    Line #165 (got 14 columns instead of 16)\n    Line #166 (got 13 columns instead of 16)\n    Line #167 (got 11 columns instead of 16)\n    Line #168 (got 11 columns instead of 16)\n    Line #169 (got 11 columns instead of 16)\n    Line #170 (got 11 columns instead of 16)\n    Line #171 (got 11 columns instead of 16)\n    Line #172 (got 11 columns instead of 16)\n    Line #173 (got 11 columns instead of 16)\n    Line #174 (got 11 columns instead of 16)\n    Line #175 (got 11 columns instead of 16)\n    Line #176 (got 11 columns instead of 16)\n    Line #177 (got 11 columns instead of 16)\n    Line #178 (got 11 columns instead of 16)\n    Line #179 (got 12 columns instead of 16)\n    Line #180 (got 12 columns instead of 16)\n    Line #181 (got 12 columns instead of 16)\n    Line #182 (got 12 columns instead of 16)\n    Line #183 (got 12 columns instead of 16)\n    Line #184 (got 12 columns instead of 16)\n    Line #185 (got 12 columns instead of 16)\n    Line #186 (got 12 columns instead of 16)\n    Line #187 (got 12 columns instead of 16)\n    Line #188 (got 11 columns instead of 16)\n    Line #189 (got 11 columns instead of 16)\n    Line #190 (got 12 columns instead of 16)\n    Line #191 (got 11 columns instead of 16)\n    Line #192 (got 12 columns instead of 16)\n    Line #193 (got 12 columns instead of 16)\n    Line #194 (got 12 columns instead of 16)\n    Line #195 (got 11 columns instead of 16)\n    Line #196 (got 11 columns instead of 16)\n    Line #197 (got 11 columns instead of 16)\n    Line #198 (got 13 columns instead of 16)\n    Line #199 (got 11 columns instead of 16)\n    Line #200 (got 12 columns instead of 16)\n    Line #201 (got 12 columns instead of 16)\n    Line #202 (got 11 columns instead of 16)\n    Line #203 (got 11 columns instead of 16)\n    Line #204 (got 12 columns instead of 16)\n    Line #205 (got 12 columns instead of 16)\n    Line #206 (got 12 columns instead of 16)\n    Line #207 (got 11 columns instead of 16)\n    Line #208 (got 11 columns instead of 16)\n    Line #209 (got 11 columns instead of 16)\n    Line #210 (got 12 columns instead of 16)\n    Line #211 (got 12 columns instead of 16)\n    Line #212 (got 12 columns instead of 16)\n    Line #213 (got 11 columns instead of 16)\n    Line #214 (got 11 columns instead of 16)\n    Line #215 (got 12 columns instead of 16)\n    Line #216 (got 12 columns instead of 16)\n    Line #217 (got 11 columns instead of 16)\n    Line #218 (got 11 columns instead of 16)\n    Line #219 (got 11 columns instead of 16)\n    Line #220 (got 12 columns instead of 16)\n    Line #221 (got 11 columns instead of 16)\n    Line #222 (got 12 columns instead of 16)\n    Line #223 (got 11 columns instead of 16)\n    Line #224 (got 12 columns instead of 16)\n    Line #225 (got 12 columns instead of 16)\n    Line #226 (got 13 columns instead of 16)\n    Line #227 (got 11 columns instead of 16)\n    Line #228 (got 11 columns instead of 16)\n    Line #229 (got 12 columns instead of 16)\n    Line #230 (got 12 columns instead of 16)\n    Line #231 (got 13 columns instead of 16)\n    Line #232 (got 12 columns instead of 16)\n    Line #233 (got 12 columns instead of 16)\n    Line #234 (got 13 columns instead of 16)\n    Line #235 (got 12 columns instead of 16)\n    Line #236 (got 11 columns instead of 16)\n    Line #237 (got 11 columns instead of 16)\n    Line #238 (got 11 columns instead of 16)\n    Line #239 (got 12 columns instead of 16)\n    Line #240 (got 12 columns instead of 16)\n    Line #241 (got 12 columns instead of 16)\n    Line #242 (got 12 columns instead of 16)\n    Line #243 (got 11 columns instead of 16)\n    Line #244 (got 11 columns instead of 16)\n    Line #245 (got 12 columns instead of 16)\n    Line #246 (got 12 columns instead of 16)\n    Line #247 (got 12 columns instead of 16)\n    Line #248 (got 12 columns instead of 16)\n    Line #249 (got 12 columns instead of 16)\n    Line #250 (got 13 columns instead of 16)\n    Line #251 (got 12 columns instead of 16)\n    Line #252 (got 11 columns instead of 16)\n    Line #253 (got 11 columns instead of 16)\n    Line #254 (got 11 columns instead of 16)\n    Line #255 (got 11 columns instead of 16)\n    Line #256 (got 11 columns instead of 16)\n    Line #257 (got 11 columns instead of 16)\n    Line #258 (got 11 columns instead of 16)\n    Line #259 (got 12 columns instead of 16)\n    Line #260 (got 11 columns instead of 16)\n    Line #261 (got 11 columns instead of 16)\n    Line #262 (got 11 columns instead of 16)\n    Line #263 (got 11 columns instead of 16)\n    Line #264 (got 11 columns instead of 16)\n    Line #265 (got 11 columns instead of 16)\n    Line #266 (got 11 columns instead of 16)\n    Line #267 (got 12 columns instead of 16)\n    Line #268 (got 12 columns instead of 16)\n    Line #269 (got 12 columns instead of 16)\n    Line #270 (got 13 columns instead of 16)\n    Line #271 (got 12 columns instead of 16)\n    Line #272 (got 12 columns instead of 16)\n    Line #273 (got 12 columns instead of 16)\n    Line #274 (got 11 columns instead of 16)\n    Line #275 (got 11 columns instead of 16)\n    Line #276 (got 11 columns instead of 16)\n    Line #277 (got 13 columns instead of 16)\n    Line #278 (got 11 columns instead of 16)\n    Line #279 (got 12 columns instead of 16)\n    Line #280 (got 12 columns instead of 16)\n    Line #281 (got 13 columns instead of 16)\n    Line #282 (got 11 columns instead of 16)\n    Line #283 (got 12 columns instead of 16)\n    Line #284 (got 12 columns instead of 16)\n    Line #285 (got 13 columns instead of 16)\n    Line #286 (got 11 columns instead of 16)\n    Line #287 (got 11 columns instead of 16)\n    Line #288 (got 11 columns instead of 16)\n    Line #289 (got 11 columns instead of 16)\n    Line #290 (got 11 columns instead of 16)\n    Line #291 (got 11 columns instead of 16)\n    Line #292 (got 12 columns instead of 16)\n    Line #293 (got 11 columns instead of 16)\n    Line #294 (got 12 columns instead of 16)\n    Line #295 (got 12 columns instead of 16)\n    Line #296 (got 12 columns instead of 16)\n    Line #297 (got 12 columns instead of 16)\n    Line #298 (got 11 columns instead of 16)\n    Line #299 (got 12 columns instead of 16)\n    Line #300 (got 12 columns instead of 16)\n    Line #301 (got 12 columns instead of 16)\n    Line #302 (got 12 columns instead of 16)\n    Line #303 (got 12 columns instead of 16)\n    Line #304 (got 12 columns instead of 16)\n    Line #305 (got 12 columns instead of 16)\n    Line #306 (got 12 columns instead of 16)\n    Line #307 (got 12 columns instead of 16)\n    Line #308 (got 13 columns instead of 16)\n    Line #309 (got 12 columns instead of 16)\n    Line #310 (got 12 columns instead of 16)\n    Line #311 (got 11 columns instead of 16)\n    Line #312 (got 12 columns instead of 16)\n    Line #313 (got 11 columns instead of 16)\n    Line #314 (got 11 columns instead of 16)\n    Line #315 (got 11 columns instead of 16)\n    Line #316 (got 12 columns instead of 16)\n    Line #317 (got 12 columns instead of 16)\n    Line #318 (got 12 columns instead of 16)\n    Line #319 (got 11 columns instead of 16)\n    Line #320 (got 11 columns instead of 16)\n    Line #321 (got 11 columns instead of 16)\n    Line #322 (got 11 columns instead of 16)\n    Line #323 (got 11 columns instead of 16)\n    Line #324 (got 12 columns instead of 16)\n    Line #325 (got 11 columns instead of 16)\n    Line #326 (got 11 columns instead of 16)\n    Line #327 (got 11 columns instead of 16)\n    Line #328 (got 12 columns instead of 16)\n    Line #329 (got 13 columns instead of 16)\n    Line #330 (got 12 columns instead of 16)\n    Line #331 (got 13 columns instead of 16)\n    Line #332 (got 12 columns instead of 16)\n    Line #333 (got 12 columns instead of 16)\n    Line #334 (got 12 columns instead of 16)\n    Line #335 (got 12 columns instead of 16)\n    Line #336 (got 12 columns instead of 16)\n    Line #337 (got 12 columns instead of 16)\n    Line #338 (got 13 columns instead of 16)\n    Line #339 (got 11 columns instead of 16)\n    Line #340 (got 11 columns instead of 16)\n    Line #341 (got 12 columns instead of 16)\n    Line #342 (got 11 columns instead of 16)\n    Line #343 (got 11 columns instead of 16)\n    Line #344 (got 11 columns instead of 16)\n    Line #345 (got 11 columns instead of 16)\n    Line #346 (got 12 columns instead of 16)\n    Line #347 (got 11 columns instead of 16)\n    Line #348 (got 11 columns instead of 16)\n    Line #349 (got 12 columns instead of 16)\n    Line #350 (got 12 columns instead of 16)\n    Line #351 (got 13 columns instead of 16)\n    Line #352 (got 11 columns instead of 16)\n    Line #353 (got 11 columns instead of 16)\n    Line #354 (got 12 columns instead of 16)\n    Line #355 (got 12 columns instead of 16)\n    Line #356 (got 13 columns instead of 16)\n    Line #357 (got 11 columns instead of 16)\n    Line #358 (got 11 columns instead of 16)\n    Line #359 (got 11 columns instead of 16)\n    Line #360 (got 11 columns instead of 16)\n    Line #361 (got 11 columns instead of 16)\n    Line #362 (got 12 columns instead of 16)\n    Line #363 (got 12 columns instead of 16)\n    Line #364 (got 11 columns instead of 16)\n    Line #365 (got 12 columns instead of 16)\n    Line #366 (got 12 columns instead of 16)\n    Line #367 (got 12 columns instead of 16)\n    Line #368 (got 13 columns instead of 16)\n    Line #369 (got 11 columns instead of 16)\n    Line #370 (got 11 columns instead of 16)\n    Line #371 (got 12 columns instead of 16)\n    Line #372 (got 12 columns instead of 16)\n    Line #373 (got 12 columns instead of 16)\n    Line #374 (got 12 columns instead of 16)\n    Line #375 (got 11 columns instead of 16)\n    Line #376 (got 12 columns instead of 16)\n    Line #377 (got 12 columns instead of 16)\n    Line #378 (got 12 columns instead of 16)\n    Line #379 (got 12 columns instead of 16)\n    Line #380 (got 12 columns instead of 16)\n    Line #381 (got 12 columns instead of 16)\n    Line #382 (got 12 columns instead of 16)\n    Line #383 (got 11 columns instead of 16)\n    Line #384 (got 11 columns instead of 16)\n    Line #385 (got 11 columns instead of 16)\n    Line #386 (got 11 columns instead of 16)\n    Line #387 (got 11 columns instead of 16)\n    Line #388 (got 11 columns instead of 16)\n    Line #389 (got 12 columns instead of 16)\n    Line #390 (got 11 columns instead of 16)\n    Line #391 (got 11 columns instead of 16)\n    Line #392 (got 12 columns instead of 16)\n    Line #393 (got 11 columns instead of 16)\n    Line #394 (got 11 columns instead of 16)\n    Line #395 (got 12 columns instead of 16)\n    Line #396 (got 11 columns instead of 16)\n    Line #397 (got 11 columns instead of 16)\n    Line #398 (got 11 columns instead of 16)\n    Line #399 (got 12 columns instead of 16)\n    Line #400 (got 12 columns instead of 16)\n    Line #401 (got 12 columns instead of 16)\n    Line #402 (got 12 columns instead of 16)\n    Line #403 (got 11 columns instead of 16)\n    Line #404 (got 11 columns instead of 16)\n    Line #405 (got 11 columns instead of 16)\n    Line #406 (got 12 columns instead of 16)\n    Line #407 (got 11 columns instead of 16)\n    Line #408 (got 11 columns instead of 16)\n    Line #409 (got 11 columns instead of 16)\n    Line #410 (got 12 columns instead of 16)\n    Line #411 (got 13 columns instead of 16)\n    Line #412 (got 12 columns instead of 16)\n    Line #413 (got 12 columns instead of 16)\n    Line #414 (got 12 columns instead of 16)\n    Line #415 (got 13 columns instead of 16)\n    Line #416 (got 11 columns instead of 16)\n    Line #417 (got 11 columns instead of 16)\n    Line #418 (got 11 columns instead of 16)\n    Line #419 (got 12 columns instead of 16)\n    Line #420 (got 13 columns instead of 16)\n    Line #421 (got 12 columns instead of 16)\n    Line #422 (got 13 columns instead of 16)\n    Line #423 (got 11 columns instead of 16)\n    Line #424 (got 12 columns instead of 16)\n    Line #425 (got 11 columns instead of 16)\n    Line #426 (got 13 columns instead of 16)\n    Line #427 (got 12 columns instead of 16)\n    Line #428 (got 13 columns instead of 16)\n    Line #429 (got 12 columns instead of 16)\n    Line #430 (got 12 columns instead of 16)\n    Line #431 (got 12 columns instead of 16)\n    Line #432 (got 12 columns instead of 16)\n    Line #433 (got 12 columns instead of 16)\n    Line #434 (got 11 columns instead of 16)\n    Line #435 (got 11 columns instead of 16)\n    Line #436 (got 12 columns instead of 16)\n    Line #437 (got 11 columns instead of 16)\n    Line #438 (got 12 columns instead of 16)\n    Line #439 (got 12 columns instead of 16)\n    Line #440 (got 11 columns instead of 16)\n    Line #441 (got 11 columns instead of 16)\n    Line #442 (got 12 columns instead of 16)\n    Line #443 (got 12 columns instead of 16)\n    Line #444 (got 12 columns instead of 16)\n    Line #445 (got 12 columns instead of 16)\n    Line #446 (got 11 columns instead of 16)\n    Line #447 (got 12 columns instead of 16)\n    Line #448 (got 11 columns instead of 16)\n    Line #449 (got 11 columns instead of 16)\n    Line #450 (got 11 columns instead of 16)\n    Line #451 (got 11 columns instead of 16)\n    Line #452 (got 11 columns instead of 16)\n    Line #453 (got 12 columns instead of 16)\n    Line #454 (got 12 columns instead of 16)\n    Line #455 (got 11 columns instead of 16)\n    Line #456 (got 11 columns instead of 16)\n    Line #457 (got 12 columns instead of 16)\n    Line #458 (got 12 columns instead of 16)\n    Line #459 (got 11 columns instead of 16)\n    Line #460 (got 13 columns instead of 16)\n    Line #461 (got 13 columns instead of 16)\n    Line #462 (got 13 columns instead of 16)\n    Line #463 (got 12 columns instead of 16)\n    Line #464 (got 12 columns instead of 16)\n    Line #465 (got 12 columns instead of 16)\n    Line #466 (got 11 columns instead of 16)\n    Line #467 (got 11 columns instead of 16)\n    Line #468 (got 11 columns instead of 16)\n    Line #469 (got 11 columns instead of 16)\n    Line #470 (got 11 columns instead of 16)\n    Line #471 (got 11 columns instead of 16)\n    Line #472 (got 12 columns instead of 16)\n    Line #473 (got 11 columns instead of 16)\n    Line #474 (got 12 columns instead of 16)\n    Line #475 (got 12 columns instead of 16)\n    Line #476 (got 11 columns instead of 16)\n    Line #477 (got 11 columns instead of 16)\n    Line #478 (got 13 columns instead of 16)\n    Line #479 (got 11 columns instead of 16)\n    Line #480 (got 12 columns instead of 16)\n    Line #481 (got 11 columns instead of 16)\n    Line #482 (got 11 columns instead of 16)\n    Line #483 (got 11 columns instead of 16)\n    Line #484 (got 12 columns instead of 16)\n    Line #485 (got 12 columns instead of 16)\n    Line #486 (got 12 columns instead of 16)\n    Line #487 (got 12 columns instead of 16)\n    Line #488 (got 11 columns instead of 16)\n    Line #489 (got 13 columns instead of 16)\n    Line #490 (got 11 columns instead of 16)\n    Line #491 (got 12 columns instead of 16)\n    Line #492 (got 12 columns instead of 16)\n    Line #493 (got 12 columns instead of 16)\n    Line #494 (got 12 columns instead of 16)\n    Line #495 (got 12 columns instead of 16)\n    Line #496 (got 13 columns instead of 16)\n    Line #497 (got 11 columns instead of 16)\n    Line #498 (got 11 columns instead of 16)\n    Line #499 (got 12 columns instead of 16)\n    Line #500 (got 13 columns instead of 16)\n    Line #501 (got 11 columns instead of 16)\n    Line #502 (got 11 columns instead of 16)\n    Line #503 (got 12 columns instead of 16)\n    Line #504 (got 12 columns instead of 16)\n    Line #505 (got 12 columns instead of 16)\n    Line #506 (got 12 columns instead of 16)\n    Line #507 (got 11 columns instead of 16)\n    Line #508 (got 11 columns instead of 16)\n    Line #509 (got 11 columns instead of 16)\n    Line #510 (got 12 columns instead of 16)\n    Line #511 (got 12 columns instead of 16)\n    Line #512 (got 12 columns instead of 16)\n    Line #513 (got 13 columns instead of 16)\n    Line #514 (got 12 columns instead of 16)\n    Line #515 (got 12 columns instead of 16)\n    Line #516 (got 11 columns instead of 16)\n    Line #517 (got 12 columns instead of 16)\n    Line #518 (got 11 columns instead of 16)\n    Line #519 (got 11 columns instead of 16)\n    Line #520 (got 11 columns instead of 16)\n    Line #521 (got 12 columns instead of 16)\n    Line #522 (got 12 columns instead of 16)\n    Line #523 (got 11 columns instead of 16)\n    Line #524 (got 11 columns instead of 16)\n    Line #525 (got 12 columns instead of 16)\n    Line #526 (got 12 columns instead of 16)\n    Line #527 (got 11 columns instead of 16)\n    Line #528 (got 12 columns instead of 16)\n    Line #529 (got 13 columns instead of 16)\n    Line #530 (got 12 columns instead of 16)\n    Line #531 (got 11 columns instead of 16)\n    Line #532 (got 12 columns instead of 16)\n    Line #533 (got 12 columns instead of 16)\n    Line #534 (got 13 columns instead of 16)\n    Line #535 (got 13 columns instead of 16)\n    Line #536 (got 13 columns instead of 16)\n    Line #537 (got 13 columns instead of 16)\n    Line #538 (got 13 columns instead of 16)\n    Line #539 (got 11 columns instead of 16)\n    Line #540 (got 11 columns instead of 16)\n    Line #541 (got 11 columns instead of 16)\n    Line #542 (got 12 columns instead of 16)\n    Line #543 (got 12 columns instead of 16)\n    Line #544 (got 12 columns instead of 16)\n    Line #545 (got 11 columns instead of 16)\n    Line #546 (got 13 columns instead of 16)\n    Line #547 (got 13 columns instead of 16)\n    Line #548 (got 11 columns instead of 16)\n    Line #549 (got 11 columns instead of 16)\n    Line #550 (got 11 columns instead of 16)\n    Line #551 (got 11 columns instead of 16)\n    Line #552 (got 12 columns instead of 16)\n    Line #553 (got 13 columns instead of 16)\n    Line #554 (got 11 columns instead of 16)\n    Line #555 (got 12 columns instead of 16)\n    Line #556 (got 11 columns instead of 16)\n    Line #557 (got 11 columns instead of 16)\n    Line #558 (got 11 columns instead of 16)\n    Line #559 (got 11 columns instead of 16)\n    Line #560 (got 12 columns instead of 16)\n    Line #561 (got 12 columns instead of 16)\n    Line #562 (got 11 columns instead of 16)\n    Line #563 (got 11 columns instead of 16)\n    Line #564 (got 11 columns instead of 16)\n    Line #565 (got 11 columns instead of 16)\n    Line #566 (got 11 columns instead of 16)\n    Line #567 (got 11 columns instead of 16)\n    Line #568 (got 11 columns instead of 16)\n    Line #569 (got 11 columns instead of 16)\n    Line #570 (got 11 columns instead of 16)\n    Line #571 (got 11 columns instead of 16)\n    Line #572 (got 11 columns instead of 16)\n    Line #573 (got 11 columns instead of 16)\n    Line #574 (got 11 columns instead of 16)\n    Line #575 (got 11 columns instead of 16)\n    Line #576 (got 11 columns instead of 16)\n    Line #577 (got 11 columns instead of 16)\n    Line #578 (got 11 columns instead of 16)\n    Line #579 (got 11 columns instead of 16)\n    Line #580 (got 12 columns instead of 16)\n    Line #581 (got 12 columns instead of 16)\n    Line #582 (got 12 columns instead of 16)\n    Line #583 (got 11 columns instead of 16)\n    Line #584 (got 11 columns instead of 16)\n    Line #585 (got 11 columns instead of 16)\n    Line #586 (got 11 columns instead of 16)\n    Line #587 (got 11 columns instead of 16)\n    Line #588 (got 12 columns instead of 16)\n    Line #589 (got 12 columns instead of 16)\n    Line #590 (got 11 columns instead of 16)\n    Line #591 (got 12 columns instead of 16)\n    Line #592 (got 11 columns instead of 16)\n    Line #593 (got 13 columns instead of 16)\n    Line #594 (got 11 columns instead of 16)\n    Line #595 (got 11 columns instead of 16)\n    Line #596 (got 11 columns instead of 16)\n    Line #597 (got 11 columns instead of 16)\n    Line #598 (got 12 columns instead of 16)\n    Line #599 (got 12 columns instead of 16)\n    Line #600 (got 11 columns instead of 16)\n    Line #601 (got 11 columns instead of 16)\n    Line #602 (got 12 columns instead of 16)\n    Line #603 (got 12 columns instead of 16)\n    Line #604 (got 12 columns instead of 16)\n    Line #605 (got 12 columns instead of 16)\n    Line #606 (got 12 columns instead of 16)\n    Line #607 (got 12 columns instead of 16)\n    Line #608 (got 12 columns instead of 16)\n    Line #609 (got 12 columns instead of 16)\n    Line #610 (got 11 columns instead of 16)\n    Line #611 (got 11 columns instead of 16)\n    Line #612 (got 11 columns instead of 16)\n    Line #613 (got 12 columns instead of 16)\n    Line #614 (got 12 columns instead of 16)\n    Line #615 (got 12 columns instead of 16)\n    Line #616 (got 11 columns instead of 16)\n    Line #617 (got 12 columns instead of 16)\n    Line #618 (got 13 columns instead of 16)\n    Line #619 (got 11 columns instead of 16)\n    Line #620 (got 12 columns instead of 16)\n    Line #621 (got 12 columns instead of 16)\n    Line #622 (got 12 columns instead of 16)\n    Line #623 (got 12 columns instead of 16)\n    Line #624 (got 12 columns instead of 16)\n    Line #625 (got 11 columns instead of 16)\n    Line #626 (got 11 columns instead of 16)\n    Line #627 (got 12 columns instead of 16)\n    Line #628 (got 12 columns instead of 16)\n    Line #629 (got 12 columns instead of 16)\n    Line #630 (got 12 columns instead of 16)\n    Line #631 (got 11 columns instead of 16)\n    Line #632 (got 11 columns instead of 16)\n    Line #633 (got 11 columns instead of 16)\n    Line #634 (got 11 columns instead of 16)\n    Line #635 (got 11 columns instead of 16)\n    Line #636 (got 11 columns instead of 16)\n    Line #637 (got 11 columns instead of 16)\n    Line #638 (got 11 columns instead of 16)\n    Line #639 (got 11 columns instead of 16)\n    Line #640 (got 11 columns instead of 16)\n    Line #641 (got 11 columns instead of 16)\n    Line #642 (got 11 columns instead of 16)\n    Line #643 (got 12 columns instead of 16)\n    Line #644 (got 12 columns instead of 16)\n    Line #645 (got 11 columns instead of 16)\n    Line #646 (got 11 columns instead of 16)\n    Line #647 (got 11 columns instead of 16)\n    Line #648 (got 12 columns instead of 16)\n    Line #649 (got 12 columns instead of 16)\n    Line #650 (got 12 columns instead of 16)\n    Line #651 (got 11 columns instead of 16)\n    Line #652 (got 12 columns instead of 16)\n    Line #653 (got 12 columns instead of 16)\n    Line #654 (got 12 columns instead of 16)\n    Line #655 (got 12 columns instead of 16)\n    Line #656 (got 12 columns instead of 16)\n    Line #657 (got 11 columns instead of 16)\n    Line #658 (got 12 columns instead of 16)\n    Line #659 (got 12 columns instead of 16)\n    Line #660 (got 12 columns instead of 16)\n    Line #661 (got 12 columns instead of 16)\n    Line #662 (got 11 columns instead of 16)\n    Line #663 (got 11 columns instead of 16)\n    Line #664 (got 11 columns instead of 16)\n    Line #665 (got 11 columns instead of 16)\n    Line #666 (got 11 columns instead of 16)\n    Line #667 (got 11 columns instead of 16)\n    Line #668 (got 11 columns instead of 16)\n    Line #669 (got 11 columns instead of 16)\n    Line #670 (got 12 columns instead of 16)\n    Line #671 (got 12 columns instead of 16)\n    Line #672 (got 12 columns instead of 16)\n    Line #673 (got 11 columns instead of 16)\n    Line #674 (got 11 columns instead of 16)\n    Line #675 (got 11 columns instead of 16)\n    Line #676 (got 11 columns instead of 16)\n    Line #677 (got 11 columns instead of 16)\n    Line #678 (got 11 columns instead of 16)\n    Line #679 (got 11 columns instead of 16)\n    Line #680 (got 11 columns instead of 16)\n    Line #681 (got 12 columns instead of 16)\n    Line #682 (got 11 columns instead of 16)\n    Line #683 (got 11 columns instead of 16)\n    Line #684 (got 11 columns instead of 16)\n    Line #685 (got 12 columns instead of 16)\n    Line #686 (got 12 columns instead of 16)\n    Line #687 (got 12 columns instead of 16)\n    Line #688 (got 12 columns instead of 16)\n    Line #689 (got 11 columns instead of 16)\n    Line #690 (got 12 columns instead of 16)\n    Line #691 (got 12 columns instead of 16)\n    Line #692 (got 12 columns instead of 16)\n    Line #693 (got 12 columns instead of 16)\n    Line #694 (got 11 columns instead of 16)\n    Line #695 (got 12 columns instead of 16)\n    Line #696 (got 12 columns instead of 16)\n    Line #697 (got 12 columns instead of 16)\n    Line #698 (got 12 columns instead of 16)\n    Line #699 (got 12 columns instead of 16)\n    Line #700 (got 12 columns instead of 16)\n    Line #701 (got 12 columns instead of 16)\n    Line #702 (got 12 columns instead of 16)\n    Line #703 (got 12 columns instead of 16)\n    Line #704 (got 12 columns instead of 16)\n    Line #705 (got 12 columns instead of 16)\n    Line #706 (got 13 columns instead of 16)\n    Line #707 (got 13 columns instead of 16)\n    Line #708 (got 12 columns instead of 16)\n    Line #709 (got 12 columns instead of 16)\n    Line #710 (got 13 columns instead of 16)\n    Line #711 (got 13 columns instead of 16)\n    Line #712 (got 12 columns instead of 16)\n    Line #713 (got 13 columns instead of 16)\n    Line #714 (got 13 columns instead of 16)\n    Line #715 (got 13 columns instead of 16)\n    Line #716 (got 13 columns instead of 16)\n    Line #717 (got 13 columns instead of 16)\n    Line #718 (got 13 columns instead of 16)\n    Line #719 (got 12 columns instead of 16)\n    Line #720 (got 11 columns instead of 16)\n    Line #721 (got 11 columns instead of 16)\n    Line #722 (got 12 columns instead of 16)\n    Line #723 (got 11 columns instead of 16)\n    Line #724 (got 11 columns instead of 16)\n    Line #725 (got 12 columns instead of 16)\n    Line #726 (got 11 columns instead of 16)\n    Line #727 (got 11 columns instead of 16)\n    Line #728 (got 12 columns instead of 16)\n    Line #729 (got 11 columns instead of 16)\n    Line #730 (got 12 columns instead of 16)\n    Line #731 (got 12 columns instead of 16)\n    Line #732 (got 12 columns instead of 16)\n    Line #733 (got 12 columns instead of 16)\n    Line #734 (got 11 columns instead of 16)\n    Line #735 (got 11 columns instead of 16)\n    Line #736 (got 12 columns instead of 16)\n    Line #737 (got 12 columns instead of 16)\n    Line #738 (got 12 columns instead of 16)\n    Line #739 (got 11 columns instead of 16)\n    Line #740 (got 11 columns instead of 16)\n    Line #741 (got 11 columns instead of 16)\n    Line #742 (got 11 columns instead of 16)\n    Line #743 (got 11 columns instead of 16)\n    Line #744 (got 11 columns instead of 16)\n    Line #745 (got 12 columns instead of 16)\n    Line #746 (got 11 columns instead of 16)\n    Line #747 (got 11 columns instead of 16)\n    Line #748 (got 11 columns instead of 16)\n    Line #749 (got 11 columns instead of 16)\n    Line #750 (got 12 columns instead of 16)\n    Line #751 (got 12 columns instead of 16)\n    Line #752 (got 13 columns instead of 16)\n    Line #753 (got 13 columns instead of 16)\n    Line #754 (got 11 columns instead of 16)\n    Line #755 (got 11 columns instead of 16)\n    Line #756 (got 11 columns instead of 16)\n    Line #757 (got 11 columns instead of 16)\n    Line #758 (got 12 columns instead of 16)\n    Line #759 (got 12 columns instead of 16)\n    Line #760 (got 12 columns instead of 16)\n    Line #761 (got 12 columns instead of 16)\n    Line #762 (got 12 columns instead of 16)\n    Line #763 (got 12 columns instead of 16)\n    Line #764 (got 11 columns instead of 16)\n    Line #765 (got 11 columns instead of 16)\n    Line #766 (got 12 columns instead of 16)\n    Line #767 (got 12 columns instead of 16)\n    Line #768 (got 12 columns instead of 16)\n    Line #769 (got 12 columns instead of 16)\n    Line #770 (got 12 columns instead of 16)\n    Line #771 (got 12 columns instead of 16)\n    Line #772 (got 11 columns instead of 16)\n    Line #773 (got 12 columns instead of 16)\n    Line #774 (got 12 columns instead of 16)\n    Line #775 (got 12 columns instead of 16)\n    Line #776 (got 11 columns instead of 16)\n    Line #777 (got 11 columns instead of 16)\n    Line #778 (got 11 columns instead of 16)\n    Line #779 (got 12 columns instead of 16)\n    Line #780 (got 12 columns instead of 16)\n    Line #781 (got 12 columns instead of 16)\n    Line #782 (got 13 columns instead of 16)\n    Line #783 (got 13 columns instead of 16)\n    Line #784 (got 13 columns instead of 16)\n    Line #785 (got 13 columns instead of 16)\n    Line #786 (got 13 columns instead of 16)\n    Line #787 (got 13 columns instead of 16)\n    Line #788 (got 13 columns instead of 16)\n    Line #789 (got 13 columns instead of 16)\n    Line #790 (got 11 columns instead of 16)\n    Line #791 (got 11 columns instead of 16)\n    Line #792 (got 12 columns instead of 16)\n    Line #793 (got 12 columns instead of 16)\n    Line #794 (got 11 columns instead of 16)\n    Line #795 (got 12 columns instead of 16)\n    Line #796 (got 13 columns instead of 16)\n    Line #797 (got 12 columns instead of 16)\n    Line #798 (got 13 columns instead of 16)\n    Line #799 (got 13 columns instead of 16)\n    Line #800 (got 13 columns instead of 16)\n    Line #801 (got 12 columns instead of 16)",
     "output_type": "error",
     "traceback": [
      "\u001b[0;31m\u001b[0m",
      "\u001b[0;31mValueError\u001b[0mTraceback (most recent call last)",
      "\u001b[0;32m<ipython-input-119-7cacd9ca7a52>\u001b[0m in \u001b[0;36m<module>\u001b[0;34m()\u001b[0m\n\u001b[0;32m----> 1\u001b[0;31m \u001b[0mfiledata\u001b[0m\u001b[0;34m=\u001b[0m\u001b[0mnp\u001b[0m\u001b[0;34m.\u001b[0m\u001b[0mgenfromtxt\u001b[0m\u001b[0;34m(\u001b[0m\u001b[0;34m'pokemon_data.txt'\u001b[0m\u001b[0;34m,\u001b[0m \u001b[0mdelimiter\u001b[0m\u001b[0;34m=\u001b[0m\u001b[0;34m''\u001b[0m\u001b[0;34m)\u001b[0m\u001b[0;34m\u001b[0m\u001b[0m\n\u001b[0m",
      "\u001b[0;32m/Users/sangeetha/opt/anaconda2/lib/python2.7/site-packages/numpy/lib/npyio.pyc\u001b[0m in \u001b[0;36mgenfromtxt\u001b[0;34m(fname, dtype, comments, delimiter, skip_header, skip_footer, converters, missing_values, filling_values, usecols, names, excludelist, deletechars, replace_space, autostrip, case_sensitive, defaultfmt, unpack, usemask, loose, invalid_raise, max_rows, encoding)\u001b[0m\n\u001b[1;32m   2073\u001b[0m             \u001b[0;31m# Raise an exception ?\u001b[0m\u001b[0;34m\u001b[0m\u001b[0;34m\u001b[0m\u001b[0m\n\u001b[1;32m   2074\u001b[0m             \u001b[0;32mif\u001b[0m \u001b[0minvalid_raise\u001b[0m\u001b[0;34m:\u001b[0m\u001b[0;34m\u001b[0m\u001b[0m\n\u001b[0;32m-> 2075\u001b[0;31m                 \u001b[0;32mraise\u001b[0m \u001b[0mValueError\u001b[0m\u001b[0;34m(\u001b[0m\u001b[0merrmsg\u001b[0m\u001b[0;34m)\u001b[0m\u001b[0;34m\u001b[0m\u001b[0m\n\u001b[0m\u001b[1;32m   2076\u001b[0m             \u001b[0;31m# Issue a warning ?\u001b[0m\u001b[0;34m\u001b[0m\u001b[0;34m\u001b[0m\u001b[0m\n\u001b[1;32m   2077\u001b[0m             \u001b[0;32melse\u001b[0m\u001b[0;34m:\u001b[0m\u001b[0;34m\u001b[0m\u001b[0m\n",
      "\u001b[0;31mValueError\u001b[0m: Some errors were detected !\n    Line #2 (got 12 columns instead of 16)\n    Line #3 (got 12 columns instead of 16)\n    Line #4 (got 12 columns instead of 16)\n    Line #5 (got 13 columns instead of 16)\n    Line #6 (got 11 columns instead of 16)\n    Line #7 (got 11 columns instead of 16)\n    Line #8 (got 12 columns instead of 16)\n    Line #9 (got 14 columns instead of 16)\n    Line #10 (got 14 columns instead of 16)\n    Line #11 (got 11 columns instead of 16)\n    Line #12 (got 11 columns instead of 16)\n    Line #13 (got 11 columns instead of 16)\n    Line #14 (got 12 columns instead of 16)\n    Line #15 (got 11 columns instead of 16)\n    Line #16 (got 11 columns instead of 16)\n    Line #17 (got 12 columns instead of 16)\n    Line #18 (got 12 columns instead of 16)\n    Line #19 (got 12 columns instead of 16)\n    Line #20 (got 12 columns instead of 16)\n    Line #21 (got 13 columns instead of 16)\n    Line #22 (got 12 columns instead of 16)\n    Line #23 (got 12 columns instead of 16)\n    Line #24 (got 12 columns instead of 16)\n    Line #25 (got 13 columns instead of 16)\n    Line #26 (got 11 columns instead of 16)\n    Line #27 (got 11 columns instead of 16)\n    Line #28 (got 12 columns instead of 16)\n    Line #29 (got 12 columns instead of 16)\n    Line #30 (got 11 columns instead of 16)\n    Line #31 (got 11 columns instead of 16)\n    Line #32 (got 11 columns instead of 16)\n    Line #33 (got 11 columns instead of 16)\n    Line #34 (got 11 columns instead of 16)\n    Line #35 (got 11 columns instead of 16)\n    Line #36 (got 12 columns instead of 16)\n    Line #37 (got 11 columns instead of 16)\n    Line #38 (got 12 columns instead of 16)\n    Line #39 (got 12 columns instead of 16)\n    Line #40 (got 11 columns instead of 16)\n    Line #41 (got 12 columns instead of 16)\n    Line #42 (got 11 columns instead of 16)\n    Line #43 (got 11 columns instead of 16)\n    Line #44 (got 11 columns instead of 16)\n    Line #45 (got 11 columns instead of 16)\n    Line #46 (got 12 columns instead of 16)\n    Line #47 (got 12 columns instead of 16)\n    Line #48 (got 12 columns instead of 16)\n    Line #49 (got 12 columns instead of 16)\n    Line #50 (got 12 columns instead of 16)\n    Line #51 (got 12 columns instead of 16)\n    Line #52 (got 12 columns instead of 16)\n    Line #53 (got 12 columns instead of 16)\n    Line #54 (got 12 columns instead of 16)\n    Line #55 (got 12 columns instead of 16)\n    Line #56 (got 12 columns instead of 16)\n    Line #57 (got 11 columns instead of 16)\n    Line #58 (got 11 columns instead of 16)\n    Line #59 (got 11 columns instead of 16)\n    Line #60 (got 11 columns instead of 16)\n    Line #61 (got 11 columns instead of 16)\n    Line #62 (got 11 columns instead of 16)\n    Line #63 (got 11 columns instead of 16)\n    Line #64 (got 11 columns instead of 16)\n    Line #65 (got 11 columns instead of 16)\n    Line #66 (got 11 columns instead of 16)\n    Line #67 (got 11 columns instead of 16)\n    Line #68 (got 11 columns instead of 16)\n    Line #69 (got 12 columns instead of 16)\n    Line #70 (got 11 columns instead of 16)\n    Line #71 (got 11 columns instead of 16)\n    Line #72 (got 11 columns instead of 16)\n    Line #73 (got 12 columns instead of 16)\n    Line #74 (got 11 columns instead of 16)\n    Line #75 (got 11 columns instead of 16)\n    Line #76 (got 11 columns instead of 16)\n    Line #77 (got 12 columns instead of 16)\n    Line #78 (got 12 columns instead of 16)\n    Line #79 (got 12 columns instead of 16)\n    Line #80 (got 12 columns instead of 16)\n    Line #81 (got 12 columns instead of 16)\n    Line #82 (got 12 columns instead of 16)\n    Line #83 (got 12 columns instead of 16)\n    Line #84 (got 12 columns instead of 16)\n    Line #85 (got 11 columns instead of 16)\n    Line #86 (got 11 columns instead of 16)\n    Line #87 (got 12 columns instead of 16)\n    Line #88 (got 12 columns instead of 16)\n    Line #89 (got 13 columns instead of 16)\n    Line #90 (got 12 columns instead of 16)\n    Line #91 (got 12 columns instead of 16)\n    Line #92 (got 12 columns instead of 16)\n    Line #93 (got 12 columns instead of 16)\n    Line #94 (got 12 columns instead of 16)\n    Line #95 (got 11 columns instead of 16)\n    Line #96 (got 12 columns instead of 16)\n    Line #97 (got 11 columns instead of 16)\n    Line #98 (got 11 columns instead of 16)\n    Line #99 (got 11 columns instead of 16)\n    Line #100 (got 12 columns instead of 16)\n    Line #101 (got 12 columns instead of 16)\n    Line #102 (got 12 columns instead of 16)\n    Line #103 (got 12 columns instead of 16)\n    Line #104 (got 13 columns instead of 16)\n    Line #105 (got 12 columns instead of 16)\n    Line #106 (got 11 columns instead of 16)\n    Line #107 (got 11 columns instead of 16)\n    Line #108 (got 11 columns instead of 16)\n    Line #109 (got 11 columns instead of 16)\n    Line #110 (got 11 columns instead of 16)\n    Line #111 (got 11 columns instead of 16)\n    Line #112 (got 12 columns instead of 16)\n    Line #113 (got 12 columns instead of 16)\n    Line #114 (got 11 columns instead of 16)\n    Line #115 (got 11 columns instead of 16)\n    Line #116 (got 11 columns instead of 16)\n    Line #117 (got 11 columns instead of 16)\n    Line #118 (got 11 columns instead of 16)\n    Line #119 (got 11 columns instead of 16)\n    Line #120 (got 11 columns instead of 16)\n    Line #121 (got 12 columns instead of 16)\n    Line #122 (got 12 columns instead of 16)\n    Line #123 (got 11 columns instead of 16)\n    Line #124 (got 11 columns instead of 16)\n    Line #125 (got 11 columns instead of 16)\n    Line #126 (got 12 columns instead of 16)\n    Line #127 (got 11 columns instead of 16)\n    Line #128 (got 11 columns instead of 16)\n    Line #129 (got 11 columns instead of 16)\n    Line #130 (got 11 columns instead of 16)\n    Line #131 (got 11 columns instead of 16)\n    Line #132 (got 12 columns instead of 16)\n    Line #133 (got 13 columns instead of 16)\n    Line #134 (got 12 columns instead of 16)\n    Line #135 (got 12 columns instead of 16)\n    Line #136 (got 11 columns instead of 16)\n    Line #137 (got 11 columns instead of 16)\n    Line #138 (got 11 columns instead of 16)\n    Line #139 (got 13 columns instead of 16)\n    Line #140 (got 11 columns instead of 16)\n    Line #141 (got 11 columns instead of 16)\n    Line #142 (got 12 columns instead of 16)\n    Line #143 (got 13 columns instead of 16)\n    Line #144 (got 12 columns instead of 16)\n    Line #145 (got 11 columns instead of 16)\n    Line #146 (got 11 columns instead of 16)\n    Line #147 (got 11 columns instead of 16)\n    Line #148 (got 11 columns instead of 16)\n    Line #149 (got 11 columns instead of 16)\n    Line #150 (got 11 columns instead of 16)\n    Line #151 (got 12 columns instead of 16)\n    Line #152 (got 12 columns instead of 16)\n    Line #153 (got 12 columns instead of 16)\n    Line #154 (got 12 columns instead of 16)\n    Line #155 (got 12 columns instead of 16)\n    Line #156 (got 13 columns instead of 16)\n    Line #157 (got 11 columns instead of 16)\n    Line #158 (got 12 columns instead of 16)\n    Line #159 (got 12 columns instead of 16)\n    Line #160 (got 12 columns instead of 16)\n    Line #161 (got 11 columns instead of 16)\n    Line #162 (got 11 columns instead of 16)\n    Line #163 (got 12 columns instead of 16)\n    Line #164 (got 11 columns instead of 16)\n    Line #165 (got 14 columns instead of 16)\n    Line #166 (got 13 columns instead of 16)\n    Line #167 (got 11 columns instead of 16)\n    Line #168 (got 11 columns instead of 16)\n    Line #169 (got 11 columns instead of 16)\n    Line #170 (got 11 columns instead of 16)\n    Line #171 (got 11 columns instead of 16)\n    Line #172 (got 11 columns instead of 16)\n    Line #173 (got 11 columns instead of 16)\n    Line #174 (got 11 columns instead of 16)\n    Line #175 (got 11 columns instead of 16)\n    Line #176 (got 11 columns instead of 16)\n    Line #177 (got 11 columns instead of 16)\n    Line #178 (got 11 columns instead of 16)\n    Line #179 (got 12 columns instead of 16)\n    Line #180 (got 12 columns instead of 16)\n    Line #181 (got 12 columns instead of 16)\n    Line #182 (got 12 columns instead of 16)\n    Line #183 (got 12 columns instead of 16)\n    Line #184 (got 12 columns instead of 16)\n    Line #185 (got 12 columns instead of 16)\n    Line #186 (got 12 columns instead of 16)\n    Line #187 (got 12 columns instead of 16)\n    Line #188 (got 11 columns instead of 16)\n    Line #189 (got 11 columns instead of 16)\n    Line #190 (got 12 columns instead of 16)\n    Line #191 (got 11 columns instead of 16)\n    Line #192 (got 12 columns instead of 16)\n    Line #193 (got 12 columns instead of 16)\n    Line #194 (got 12 columns instead of 16)\n    Line #195 (got 11 columns instead of 16)\n    Line #196 (got 11 columns instead of 16)\n    Line #197 (got 11 columns instead of 16)\n    Line #198 (got 13 columns instead of 16)\n    Line #199 (got 11 columns instead of 16)\n    Line #200 (got 12 columns instead of 16)\n    Line #201 (got 12 columns instead of 16)\n    Line #202 (got 11 columns instead of 16)\n    Line #203 (got 11 columns instead of 16)\n    Line #204 (got 12 columns instead of 16)\n    Line #205 (got 12 columns instead of 16)\n    Line #206 (got 12 columns instead of 16)\n    Line #207 (got 11 columns instead of 16)\n    Line #208 (got 11 columns instead of 16)\n    Line #209 (got 11 columns instead of 16)\n    Line #210 (got 12 columns instead of 16)\n    Line #211 (got 12 columns instead of 16)\n    Line #212 (got 12 columns instead of 16)\n    Line #213 (got 11 columns instead of 16)\n    Line #214 (got 11 columns instead of 16)\n    Line #215 (got 12 columns instead of 16)\n    Line #216 (got 12 columns instead of 16)\n    Line #217 (got 11 columns instead of 16)\n    Line #218 (got 11 columns instead of 16)\n    Line #219 (got 11 columns instead of 16)\n    Line #220 (got 12 columns instead of 16)\n    Line #221 (got 11 columns instead of 16)\n    Line #222 (got 12 columns instead of 16)\n    Line #223 (got 11 columns instead of 16)\n    Line #224 (got 12 columns instead of 16)\n    Line #225 (got 12 columns instead of 16)\n    Line #226 (got 13 columns instead of 16)\n    Line #227 (got 11 columns instead of 16)\n    Line #228 (got 11 columns instead of 16)\n    Line #229 (got 12 columns instead of 16)\n    Line #230 (got 12 columns instead of 16)\n    Line #231 (got 13 columns instead of 16)\n    Line #232 (got 12 columns instead of 16)\n    Line #233 (got 12 columns instead of 16)\n    Line #234 (got 13 columns instead of 16)\n    Line #235 (got 12 columns instead of 16)\n    Line #236 (got 11 columns instead of 16)\n    Line #237 (got 11 columns instead of 16)\n    Line #238 (got 11 columns instead of 16)\n    Line #239 (got 12 columns instead of 16)\n    Line #240 (got 12 columns instead of 16)\n    Line #241 (got 12 columns instead of 16)\n    Line #242 (got 12 columns instead of 16)\n    Line #243 (got 11 columns instead of 16)\n    Line #244 (got 11 columns instead of 16)\n    Line #245 (got 12 columns instead of 16)\n    Line #246 (got 12 columns instead of 16)\n    Line #247 (got 12 columns instead of 16)\n    Line #248 (got 12 columns instead of 16)\n    Line #249 (got 12 columns instead of 16)\n    Line #250 (got 13 columns instead of 16)\n    Line #251 (got 12 columns instead of 16)\n    Line #252 (got 11 columns instead of 16)\n    Line #253 (got 11 columns instead of 16)\n    Line #254 (got 11 columns instead of 16)\n    Line #255 (got 11 columns instead of 16)\n    Line #256 (got 11 columns instead of 16)\n    Line #257 (got 11 columns instead of 16)\n    Line #258 (got 11 columns instead of 16)\n    Line #259 (got 12 columns instead of 16)\n    Line #260 (got 11 columns instead of 16)\n    Line #261 (got 11 columns instead of 16)\n    Line #262 (got 11 columns instead of 16)\n    Line #263 (got 11 columns instead of 16)\n    Line #264 (got 11 columns instead of 16)\n    Line #265 (got 11 columns instead of 16)\n    Line #266 (got 11 columns instead of 16)\n    Line #267 (got 12 columns instead of 16)\n    Line #268 (got 12 columns instead of 16)\n    Line #269 (got 12 columns instead of 16)\n    Line #270 (got 13 columns instead of 16)\n    Line #271 (got 12 columns instead of 16)\n    Line #272 (got 12 columns instead of 16)\n    Line #273 (got 12 columns instead of 16)\n    Line #274 (got 11 columns instead of 16)\n    Line #275 (got 11 columns instead of 16)\n    Line #276 (got 11 columns instead of 16)\n    Line #277 (got 13 columns instead of 16)\n    Line #278 (got 11 columns instead of 16)\n    Line #279 (got 12 columns instead of 16)\n    Line #280 (got 12 columns instead of 16)\n    Line #281 (got 13 columns instead of 16)\n    Line #282 (got 11 columns instead of 16)\n    Line #283 (got 12 columns instead of 16)\n    Line #284 (got 12 columns instead of 16)\n    Line #285 (got 13 columns instead of 16)\n    Line #286 (got 11 columns instead of 16)\n    Line #287 (got 11 columns instead of 16)\n    Line #288 (got 11 columns instead of 16)\n    Line #289 (got 11 columns instead of 16)\n    Line #290 (got 11 columns instead of 16)\n    Line #291 (got 11 columns instead of 16)\n    Line #292 (got 12 columns instead of 16)\n    Line #293 (got 11 columns instead of 16)\n    Line #294 (got 12 columns instead of 16)\n    Line #295 (got 12 columns instead of 16)\n    Line #296 (got 12 columns instead of 16)\n    Line #297 (got 12 columns instead of 16)\n    Line #298 (got 11 columns instead of 16)\n    Line #299 (got 12 columns instead of 16)\n    Line #300 (got 12 columns instead of 16)\n    Line #301 (got 12 columns instead of 16)\n    Line #302 (got 12 columns instead of 16)\n    Line #303 (got 12 columns instead of 16)\n    Line #304 (got 12 columns instead of 16)\n    Line #305 (got 12 columns instead of 16)\n    Line #306 (got 12 columns instead of 16)\n    Line #307 (got 12 columns instead of 16)\n    Line #308 (got 13 columns instead of 16)\n    Line #309 (got 12 columns instead of 16)\n    Line #310 (got 12 columns instead of 16)\n    Line #311 (got 11 columns instead of 16)\n    Line #312 (got 12 columns instead of 16)\n    Line #313 (got 11 columns instead of 16)\n    Line #314 (got 11 columns instead of 16)\n    Line #315 (got 11 columns instead of 16)\n    Line #316 (got 12 columns instead of 16)\n    Line #317 (got 12 columns instead of 16)\n    Line #318 (got 12 columns instead of 16)\n    Line #319 (got 11 columns instead of 16)\n    Line #320 (got 11 columns instead of 16)\n    Line #321 (got 11 columns instead of 16)\n    Line #322 (got 11 columns instead of 16)\n    Line #323 (got 11 columns instead of 16)\n    Line #324 (got 12 columns instead of 16)\n    Line #325 (got 11 columns instead of 16)\n    Line #326 (got 11 columns instead of 16)\n    Line #327 (got 11 columns instead of 16)\n    Line #328 (got 12 columns instead of 16)\n    Line #329 (got 13 columns instead of 16)\n    Line #330 (got 12 columns instead of 16)\n    Line #331 (got 13 columns instead of 16)\n    Line #332 (got 12 columns instead of 16)\n    Line #333 (got 12 columns instead of 16)\n    Line #334 (got 12 columns instead of 16)\n    Line #335 (got 12 columns instead of 16)\n    Line #336 (got 12 columns instead of 16)\n    Line #337 (got 12 columns instead of 16)\n    Line #338 (got 13 columns instead of 16)\n    Line #339 (got 11 columns instead of 16)\n    Line #340 (got 11 columns instead of 16)\n    Line #341 (got 12 columns instead of 16)\n    Line #342 (got 11 columns instead of 16)\n    Line #343 (got 11 columns instead of 16)\n    Line #344 (got 11 columns instead of 16)\n    Line #345 (got 11 columns instead of 16)\n    Line #346 (got 12 columns instead of 16)\n    Line #347 (got 11 columns instead of 16)\n    Line #348 (got 11 columns instead of 16)\n    Line #349 (got 12 columns instead of 16)\n    Line #350 (got 12 columns instead of 16)\n    Line #351 (got 13 columns instead of 16)\n    Line #352 (got 11 columns instead of 16)\n    Line #353 (got 11 columns instead of 16)\n    Line #354 (got 12 columns instead of 16)\n    Line #355 (got 12 columns instead of 16)\n    Line #356 (got 13 columns instead of 16)\n    Line #357 (got 11 columns instead of 16)\n    Line #358 (got 11 columns instead of 16)\n    Line #359 (got 11 columns instead of 16)\n    Line #360 (got 11 columns instead of 16)\n    Line #361 (got 11 columns instead of 16)\n    Line #362 (got 12 columns instead of 16)\n    Line #363 (got 12 columns instead of 16)\n    Line #364 (got 11 columns instead of 16)\n    Line #365 (got 12 columns instead of 16)\n    Line #366 (got 12 columns instead of 16)\n    Line #367 (got 12 columns instead of 16)\n    Line #368 (got 13 columns instead of 16)\n    Line #369 (got 11 columns instead of 16)\n    Line #370 (got 11 columns instead of 16)\n    Line #371 (got 12 columns instead of 16)\n    Line #372 (got 12 columns instead of 16)\n    Line #373 (got 12 columns instead of 16)\n    Line #374 (got 12 columns instead of 16)\n    Line #375 (got 11 columns instead of 16)\n    Line #376 (got 12 columns instead of 16)\n    Line #377 (got 12 columns instead of 16)\n    Line #378 (got 12 columns instead of 16)\n    Line #379 (got 12 columns instead of 16)\n    Line #380 (got 12 columns instead of 16)\n    Line #381 (got 12 columns instead of 16)\n    Line #382 (got 12 columns instead of 16)\n    Line #383 (got 11 columns instead of 16)\n    Line #384 (got 11 columns instead of 16)\n    Line #385 (got 11 columns instead of 16)\n    Line #386 (got 11 columns instead of 16)\n    Line #387 (got 11 columns instead of 16)\n    Line #388 (got 11 columns instead of 16)\n    Line #389 (got 12 columns instead of 16)\n    Line #390 (got 11 columns instead of 16)\n    Line #391 (got 11 columns instead of 16)\n    Line #392 (got 12 columns instead of 16)\n    Line #393 (got 11 columns instead of 16)\n    Line #394 (got 11 columns instead of 16)\n    Line #395 (got 12 columns instead of 16)\n    Line #396 (got 11 columns instead of 16)\n    Line #397 (got 11 columns instead of 16)\n    Line #398 (got 11 columns instead of 16)\n    Line #399 (got 12 columns instead of 16)\n    Line #400 (got 12 columns instead of 16)\n    Line #401 (got 12 columns instead of 16)\n    Line #402 (got 12 columns instead of 16)\n    Line #403 (got 11 columns instead of 16)\n    Line #404 (got 11 columns instead of 16)\n    Line #405 (got 11 columns instead of 16)\n    Line #406 (got 12 columns instead of 16)\n    Line #407 (got 11 columns instead of 16)\n    Line #408 (got 11 columns instead of 16)\n    Line #409 (got 11 columns instead of 16)\n    Line #410 (got 12 columns instead of 16)\n    Line #411 (got 13 columns instead of 16)\n    Line #412 (got 12 columns instead of 16)\n    Line #413 (got 12 columns instead of 16)\n    Line #414 (got 12 columns instead of 16)\n    Line #415 (got 13 columns instead of 16)\n    Line #416 (got 11 columns instead of 16)\n    Line #417 (got 11 columns instead of 16)\n    Line #418 (got 11 columns instead of 16)\n    Line #419 (got 12 columns instead of 16)\n    Line #420 (got 13 columns instead of 16)\n    Line #421 (got 12 columns instead of 16)\n    Line #422 (got 13 columns instead of 16)\n    Line #423 (got 11 columns instead of 16)\n    Line #424 (got 12 columns instead of 16)\n    Line #425 (got 11 columns instead of 16)\n    Line #426 (got 13 columns instead of 16)\n    Line #427 (got 12 columns instead of 16)\n    Line #428 (got 13 columns instead of 16)\n    Line #429 (got 12 columns instead of 16)\n    Line #430 (got 12 columns instead of 16)\n    Line #431 (got 12 columns instead of 16)\n    Line #432 (got 12 columns instead of 16)\n    Line #433 (got 12 columns instead of 16)\n    Line #434 (got 11 columns instead of 16)\n    Line #435 (got 11 columns instead of 16)\n    Line #436 (got 12 columns instead of 16)\n    Line #437 (got 11 columns instead of 16)\n    Line #438 (got 12 columns instead of 16)\n    Line #439 (got 12 columns instead of 16)\n    Line #440 (got 11 columns instead of 16)\n    Line #441 (got 11 columns instead of 16)\n    Line #442 (got 12 columns instead of 16)\n    Line #443 (got 12 columns instead of 16)\n    Line #444 (got 12 columns instead of 16)\n    Line #445 (got 12 columns instead of 16)\n    Line #446 (got 11 columns instead of 16)\n    Line #447 (got 12 columns instead of 16)\n    Line #448 (got 11 columns instead of 16)\n    Line #449 (got 11 columns instead of 16)\n    Line #450 (got 11 columns instead of 16)\n    Line #451 (got 11 columns instead of 16)\n    Line #452 (got 11 columns instead of 16)\n    Line #453 (got 12 columns instead of 16)\n    Line #454 (got 12 columns instead of 16)\n    Line #455 (got 11 columns instead of 16)\n    Line #456 (got 11 columns instead of 16)\n    Line #457 (got 12 columns instead of 16)\n    Line #458 (got 12 columns instead of 16)\n    Line #459 (got 11 columns instead of 16)\n    Line #460 (got 13 columns instead of 16)\n    Line #461 (got 13 columns instead of 16)\n    Line #462 (got 13 columns instead of 16)\n    Line #463 (got 12 columns instead of 16)\n    Line #464 (got 12 columns instead of 16)\n    Line #465 (got 12 columns instead of 16)\n    Line #466 (got 11 columns instead of 16)\n    Line #467 (got 11 columns instead of 16)\n    Line #468 (got 11 columns instead of 16)\n    Line #469 (got 11 columns instead of 16)\n    Line #470 (got 11 columns instead of 16)\n    Line #471 (got 11 columns instead of 16)\n    Line #472 (got 12 columns instead of 16)\n    Line #473 (got 11 columns instead of 16)\n    Line #474 (got 12 columns instead of 16)\n    Line #475 (got 12 columns instead of 16)\n    Line #476 (got 11 columns instead of 16)\n    Line #477 (got 11 columns instead of 16)\n    Line #478 (got 13 columns instead of 16)\n    Line #479 (got 11 columns instead of 16)\n    Line #480 (got 12 columns instead of 16)\n    Line #481 (got 11 columns instead of 16)\n    Line #482 (got 11 columns instead of 16)\n    Line #483 (got 11 columns instead of 16)\n    Line #484 (got 12 columns instead of 16)\n    Line #485 (got 12 columns instead of 16)\n    Line #486 (got 12 columns instead of 16)\n    Line #487 (got 12 columns instead of 16)\n    Line #488 (got 11 columns instead of 16)\n    Line #489 (got 13 columns instead of 16)\n    Line #490 (got 11 columns instead of 16)\n    Line #491 (got 12 columns instead of 16)\n    Line #492 (got 12 columns instead of 16)\n    Line #493 (got 12 columns instead of 16)\n    Line #494 (got 12 columns instead of 16)\n    Line #495 (got 12 columns instead of 16)\n    Line #496 (got 13 columns instead of 16)\n    Line #497 (got 11 columns instead of 16)\n    Line #498 (got 11 columns instead of 16)\n    Line #499 (got 12 columns instead of 16)\n    Line #500 (got 13 columns instead of 16)\n    Line #501 (got 11 columns instead of 16)\n    Line #502 (got 11 columns instead of 16)\n    Line #503 (got 12 columns instead of 16)\n    Line #504 (got 12 columns instead of 16)\n    Line #505 (got 12 columns instead of 16)\n    Line #506 (got 12 columns instead of 16)\n    Line #507 (got 11 columns instead of 16)\n    Line #508 (got 11 columns instead of 16)\n    Line #509 (got 11 columns instead of 16)\n    Line #510 (got 12 columns instead of 16)\n    Line #511 (got 12 columns instead of 16)\n    Line #512 (got 12 columns instead of 16)\n    Line #513 (got 13 columns instead of 16)\n    Line #514 (got 12 columns instead of 16)\n    Line #515 (got 12 columns instead of 16)\n    Line #516 (got 11 columns instead of 16)\n    Line #517 (got 12 columns instead of 16)\n    Line #518 (got 11 columns instead of 16)\n    Line #519 (got 11 columns instead of 16)\n    Line #520 (got 11 columns instead of 16)\n    Line #521 (got 12 columns instead of 16)\n    Line #522 (got 12 columns instead of 16)\n    Line #523 (got 11 columns instead of 16)\n    Line #524 (got 11 columns instead of 16)\n    Line #525 (got 12 columns instead of 16)\n    Line #526 (got 12 columns instead of 16)\n    Line #527 (got 11 columns instead of 16)\n    Line #528 (got 12 columns instead of 16)\n    Line #529 (got 13 columns instead of 16)\n    Line #530 (got 12 columns instead of 16)\n    Line #531 (got 11 columns instead of 16)\n    Line #532 (got 12 columns instead of 16)\n    Line #533 (got 12 columns instead of 16)\n    Line #534 (got 13 columns instead of 16)\n    Line #535 (got 13 columns instead of 16)\n    Line #536 (got 13 columns instead of 16)\n    Line #537 (got 13 columns instead of 16)\n    Line #538 (got 13 columns instead of 16)\n    Line #539 (got 11 columns instead of 16)\n    Line #540 (got 11 columns instead of 16)\n    Line #541 (got 11 columns instead of 16)\n    Line #542 (got 12 columns instead of 16)\n    Line #543 (got 12 columns instead of 16)\n    Line #544 (got 12 columns instead of 16)\n    Line #545 (got 11 columns instead of 16)\n    Line #546 (got 13 columns instead of 16)\n    Line #547 (got 13 columns instead of 16)\n    Line #548 (got 11 columns instead of 16)\n    Line #549 (got 11 columns instead of 16)\n    Line #550 (got 11 columns instead of 16)\n    Line #551 (got 11 columns instead of 16)\n    Line #552 (got 12 columns instead of 16)\n    Line #553 (got 13 columns instead of 16)\n    Line #554 (got 11 columns instead of 16)\n    Line #555 (got 12 columns instead of 16)\n    Line #556 (got 11 columns instead of 16)\n    Line #557 (got 11 columns instead of 16)\n    Line #558 (got 11 columns instead of 16)\n    Line #559 (got 11 columns instead of 16)\n    Line #560 (got 12 columns instead of 16)\n    Line #561 (got 12 columns instead of 16)\n    Line #562 (got 11 columns instead of 16)\n    Line #563 (got 11 columns instead of 16)\n    Line #564 (got 11 columns instead of 16)\n    Line #565 (got 11 columns instead of 16)\n    Line #566 (got 11 columns instead of 16)\n    Line #567 (got 11 columns instead of 16)\n    Line #568 (got 11 columns instead of 16)\n    Line #569 (got 11 columns instead of 16)\n    Line #570 (got 11 columns instead of 16)\n    Line #571 (got 11 columns instead of 16)\n    Line #572 (got 11 columns instead of 16)\n    Line #573 (got 11 columns instead of 16)\n    Line #574 (got 11 columns instead of 16)\n    Line #575 (got 11 columns instead of 16)\n    Line #576 (got 11 columns instead of 16)\n    Line #577 (got 11 columns instead of 16)\n    Line #578 (got 11 columns instead of 16)\n    Line #579 (got 11 columns instead of 16)\n    Line #580 (got 12 columns instead of 16)\n    Line #581 (got 12 columns instead of 16)\n    Line #582 (got 12 columns instead of 16)\n    Line #583 (got 11 columns instead of 16)\n    Line #584 (got 11 columns instead of 16)\n    Line #585 (got 11 columns instead of 16)\n    Line #586 (got 11 columns instead of 16)\n    Line #587 (got 11 columns instead of 16)\n    Line #588 (got 12 columns instead of 16)\n    Line #589 (got 12 columns instead of 16)\n    Line #590 (got 11 columns instead of 16)\n    Line #591 (got 12 columns instead of 16)\n    Line #592 (got 11 columns instead of 16)\n    Line #593 (got 13 columns instead of 16)\n    Line #594 (got 11 columns instead of 16)\n    Line #595 (got 11 columns instead of 16)\n    Line #596 (got 11 columns instead of 16)\n    Line #597 (got 11 columns instead of 16)\n    Line #598 (got 12 columns instead of 16)\n    Line #599 (got 12 columns instead of 16)\n    Line #600 (got 11 columns instead of 16)\n    Line #601 (got 11 columns instead of 16)\n    Line #602 (got 12 columns instead of 16)\n    Line #603 (got 12 columns instead of 16)\n    Line #604 (got 12 columns instead of 16)\n    Line #605 (got 12 columns instead of 16)\n    Line #606 (got 12 columns instead of 16)\n    Line #607 (got 12 columns instead of 16)\n    Line #608 (got 12 columns instead of 16)\n    Line #609 (got 12 columns instead of 16)\n    Line #610 (got 11 columns instead of 16)\n    Line #611 (got 11 columns instead of 16)\n    Line #612 (got 11 columns instead of 16)\n    Line #613 (got 12 columns instead of 16)\n    Line #614 (got 12 columns instead of 16)\n    Line #615 (got 12 columns instead of 16)\n    Line #616 (got 11 columns instead of 16)\n    Line #617 (got 12 columns instead of 16)\n    Line #618 (got 13 columns instead of 16)\n    Line #619 (got 11 columns instead of 16)\n    Line #620 (got 12 columns instead of 16)\n    Line #621 (got 12 columns instead of 16)\n    Line #622 (got 12 columns instead of 16)\n    Line #623 (got 12 columns instead of 16)\n    Line #624 (got 12 columns instead of 16)\n    Line #625 (got 11 columns instead of 16)\n    Line #626 (got 11 columns instead of 16)\n    Line #627 (got 12 columns instead of 16)\n    Line #628 (got 12 columns instead of 16)\n    Line #629 (got 12 columns instead of 16)\n    Line #630 (got 12 columns instead of 16)\n    Line #631 (got 11 columns instead of 16)\n    Line #632 (got 11 columns instead of 16)\n    Line #633 (got 11 columns instead of 16)\n    Line #634 (got 11 columns instead of 16)\n    Line #635 (got 11 columns instead of 16)\n    Line #636 (got 11 columns instead of 16)\n    Line #637 (got 11 columns instead of 16)\n    Line #638 (got 11 columns instead of 16)\n    Line #639 (got 11 columns instead of 16)\n    Line #640 (got 11 columns instead of 16)\n    Line #641 (got 11 columns instead of 16)\n    Line #642 (got 11 columns instead of 16)\n    Line #643 (got 12 columns instead of 16)\n    Line #644 (got 12 columns instead of 16)\n    Line #645 (got 11 columns instead of 16)\n    Line #646 (got 11 columns instead of 16)\n    Line #647 (got 11 columns instead of 16)\n    Line #648 (got 12 columns instead of 16)\n    Line #649 (got 12 columns instead of 16)\n    Line #650 (got 12 columns instead of 16)\n    Line #651 (got 11 columns instead of 16)\n    Line #652 (got 12 columns instead of 16)\n    Line #653 (got 12 columns instead of 16)\n    Line #654 (got 12 columns instead of 16)\n    Line #655 (got 12 columns instead of 16)\n    Line #656 (got 12 columns instead of 16)\n    Line #657 (got 11 columns instead of 16)\n    Line #658 (got 12 columns instead of 16)\n    Line #659 (got 12 columns instead of 16)\n    Line #660 (got 12 columns instead of 16)\n    Line #661 (got 12 columns instead of 16)\n    Line #662 (got 11 columns instead of 16)\n    Line #663 (got 11 columns instead of 16)\n    Line #664 (got 11 columns instead of 16)\n    Line #665 (got 11 columns instead of 16)\n    Line #666 (got 11 columns instead of 16)\n    Line #667 (got 11 columns instead of 16)\n    Line #668 (got 11 columns instead of 16)\n    Line #669 (got 11 columns instead of 16)\n    Line #670 (got 12 columns instead of 16)\n    Line #671 (got 12 columns instead of 16)\n    Line #672 (got 12 columns instead of 16)\n    Line #673 (got 11 columns instead of 16)\n    Line #674 (got 11 columns instead of 16)\n    Line #675 (got 11 columns instead of 16)\n    Line #676 (got 11 columns instead of 16)\n    Line #677 (got 11 columns instead of 16)\n    Line #678 (got 11 columns instead of 16)\n    Line #679 (got 11 columns instead of 16)\n    Line #680 (got 11 columns instead of 16)\n    Line #681 (got 12 columns instead of 16)\n    Line #682 (got 11 columns instead of 16)\n    Line #683 (got 11 columns instead of 16)\n    Line #684 (got 11 columns instead of 16)\n    Line #685 (got 12 columns instead of 16)\n    Line #686 (got 12 columns instead of 16)\n    Line #687 (got 12 columns instead of 16)\n    Line #688 (got 12 columns instead of 16)\n    Line #689 (got 11 columns instead of 16)\n    Line #690 (got 12 columns instead of 16)\n    Line #691 (got 12 columns instead of 16)\n    Line #692 (got 12 columns instead of 16)\n    Line #693 (got 12 columns instead of 16)\n    Line #694 (got 11 columns instead of 16)\n    Line #695 (got 12 columns instead of 16)\n    Line #696 (got 12 columns instead of 16)\n    Line #697 (got 12 columns instead of 16)\n    Line #698 (got 12 columns instead of 16)\n    Line #699 (got 12 columns instead of 16)\n    Line #700 (got 12 columns instead of 16)\n    Line #701 (got 12 columns instead of 16)\n    Line #702 (got 12 columns instead of 16)\n    Line #703 (got 12 columns instead of 16)\n    Line #704 (got 12 columns instead of 16)\n    Line #705 (got 12 columns instead of 16)\n    Line #706 (got 13 columns instead of 16)\n    Line #707 (got 13 columns instead of 16)\n    Line #708 (got 12 columns instead of 16)\n    Line #709 (got 12 columns instead of 16)\n    Line #710 (got 13 columns instead of 16)\n    Line #711 (got 13 columns instead of 16)\n    Line #712 (got 12 columns instead of 16)\n    Line #713 (got 13 columns instead of 16)\n    Line #714 (got 13 columns instead of 16)\n    Line #715 (got 13 columns instead of 16)\n    Line #716 (got 13 columns instead of 16)\n    Line #717 (got 13 columns instead of 16)\n    Line #718 (got 13 columns instead of 16)\n    Line #719 (got 12 columns instead of 16)\n    Line #720 (got 11 columns instead of 16)\n    Line #721 (got 11 columns instead of 16)\n    Line #722 (got 12 columns instead of 16)\n    Line #723 (got 11 columns instead of 16)\n    Line #724 (got 11 columns instead of 16)\n    Line #725 (got 12 columns instead of 16)\n    Line #726 (got 11 columns instead of 16)\n    Line #727 (got 11 columns instead of 16)\n    Line #728 (got 12 columns instead of 16)\n    Line #729 (got 11 columns instead of 16)\n    Line #730 (got 12 columns instead of 16)\n    Line #731 (got 12 columns instead of 16)\n    Line #732 (got 12 columns instead of 16)\n    Line #733 (got 12 columns instead of 16)\n    Line #734 (got 11 columns instead of 16)\n    Line #735 (got 11 columns instead of 16)\n    Line #736 (got 12 columns instead of 16)\n    Line #737 (got 12 columns instead of 16)\n    Line #738 (got 12 columns instead of 16)\n    Line #739 (got 11 columns instead of 16)\n    Line #740 (got 11 columns instead of 16)\n    Line #741 (got 11 columns instead of 16)\n    Line #742 (got 11 columns instead of 16)\n    Line #743 (got 11 columns instead of 16)\n    Line #744 (got 11 columns instead of 16)\n    Line #745 (got 12 columns instead of 16)\n    Line #746 (got 11 columns instead of 16)\n    Line #747 (got 11 columns instead of 16)\n    Line #748 (got 11 columns instead of 16)\n    Line #749 (got 11 columns instead of 16)\n    Line #750 (got 12 columns instead of 16)\n    Line #751 (got 12 columns instead of 16)\n    Line #752 (got 13 columns instead of 16)\n    Line #753 (got 13 columns instead of 16)\n    Line #754 (got 11 columns instead of 16)\n    Line #755 (got 11 columns instead of 16)\n    Line #756 (got 11 columns instead of 16)\n    Line #757 (got 11 columns instead of 16)\n    Line #758 (got 12 columns instead of 16)\n    Line #759 (got 12 columns instead of 16)\n    Line #760 (got 12 columns instead of 16)\n    Line #761 (got 12 columns instead of 16)\n    Line #762 (got 12 columns instead of 16)\n    Line #763 (got 12 columns instead of 16)\n    Line #764 (got 11 columns instead of 16)\n    Line #765 (got 11 columns instead of 16)\n    Line #766 (got 12 columns instead of 16)\n    Line #767 (got 12 columns instead of 16)\n    Line #768 (got 12 columns instead of 16)\n    Line #769 (got 12 columns instead of 16)\n    Line #770 (got 12 columns instead of 16)\n    Line #771 (got 12 columns instead of 16)\n    Line #772 (got 11 columns instead of 16)\n    Line #773 (got 12 columns instead of 16)\n    Line #774 (got 12 columns instead of 16)\n    Line #775 (got 12 columns instead of 16)\n    Line #776 (got 11 columns instead of 16)\n    Line #777 (got 11 columns instead of 16)\n    Line #778 (got 11 columns instead of 16)\n    Line #779 (got 12 columns instead of 16)\n    Line #780 (got 12 columns instead of 16)\n    Line #781 (got 12 columns instead of 16)\n    Line #782 (got 13 columns instead of 16)\n    Line #783 (got 13 columns instead of 16)\n    Line #784 (got 13 columns instead of 16)\n    Line #785 (got 13 columns instead of 16)\n    Line #786 (got 13 columns instead of 16)\n    Line #787 (got 13 columns instead of 16)\n    Line #788 (got 13 columns instead of 16)\n    Line #789 (got 13 columns instead of 16)\n    Line #790 (got 11 columns instead of 16)\n    Line #791 (got 11 columns instead of 16)\n    Line #792 (got 12 columns instead of 16)\n    Line #793 (got 12 columns instead of 16)\n    Line #794 (got 11 columns instead of 16)\n    Line #795 (got 12 columns instead of 16)\n    Line #796 (got 13 columns instead of 16)\n    Line #797 (got 12 columns instead of 16)\n    Line #798 (got 13 columns instead of 16)\n    Line #799 (got 13 columns instead of 16)\n    Line #800 (got 13 columns instead of 16)\n    Line #801 (got 12 columns instead of 16)"
     ]
    }
   ],
   "source": [
    "filedata=np.genfromtxt('pokemon_data.txt', delimiter='')"
   ]
  },
  {
   "cell_type": "markdown",
   "metadata": {},
   "source": [
    "# advanced indexing"
   ]
  }
 ],
 "metadata": {
  "kernelspec": {
   "display_name": "Python 2",
   "language": "python",
   "name": "python2"
  },
  "language_info": {
   "codemirror_mode": {
    "name": "ipython",
    "version": 2
   },
   "file_extension": ".py",
   "mimetype": "text/x-python",
   "name": "python",
   "nbconvert_exporter": "python",
   "pygments_lexer": "ipython2",
   "version": "2.7.16"
  }
 },
 "nbformat": 4,
 "nbformat_minor": 2
}
